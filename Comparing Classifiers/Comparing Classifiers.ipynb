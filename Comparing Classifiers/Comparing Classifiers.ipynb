{
  "cells": [
    {
      "cell_type": "markdown",
      "metadata": {
        "id": "NEfmq08fU9LB"
      },
      "source": [
        "# Practical Application III: Comparing Classifiers\n",
        "\n",
        "**Overview**: In this practical application, your goal is to compare the performance of the classifiers we encountered in this section, namely K Nearest Neighbor, Logistic Regression, Decision Trees, and Support Vector Machines.  We will utilize a dataset related to marketing bank products over the telephone.  \n",
        "\n"
      ]
    },
    {
      "cell_type": "markdown",
      "metadata": {
        "id": "1mdRuZG9U9LD"
      },
      "source": [
        "### Getting Started\n",
        "\n",
        "Our dataset comes from the UCI Machine Learning repository [link](https://archive.ics.uci.edu/ml/datasets/bank+marketing).  The data is from a Portugese banking institution and is a collection of the results of multiple marketing campaigns.  We will make use of the article accompanying the dataset [here](CRISP-DM-BANK.pdf) for more information on the data and features.\n",
        "\n"
      ]
    },
    {
      "cell_type": "markdown",
      "metadata": {
        "id": "o5UaagqzU9LE"
      },
      "source": [
        "### Problem 1: Understanding the Data\n",
        "\n",
        "To gain a better understanding of the data, please read the information provided in the UCI link above, and examine the **Materials and Methods** section of the paper.  How many marketing campaigns does this data represent?"
      ]
    },
    {
      "cell_type": "markdown",
      "metadata": {
        "id": "gfeNU9q9VPYh"
      },
      "source": [
        "- The collected dataset compasses 17 campaigns that occured between May 2008 and November 2010, corresponding to a total of 79354 contacts.\n",
        "\n",
        "- During these phone campaigns, an attractive long-term deposit\n",
        "application, with good interest rates, was offered."
      ]
    },
    {
      "cell_type": "markdown",
      "metadata": {
        "id": "hx-z_IYRU9LF"
      },
      "source": [
        "### Problem 2: Read in the Data\n",
        "\n",
        "Use pandas to read in the dataset `bank-additional-full.csv` and assign to a meaningful variable name."
      ]
    },
    {
      "cell_type": "code",
      "execution_count": 101,
      "metadata": {
        "colab": {
          "base_uri": "https://localhost:8080/"
        },
        "id": "Kq39YqNMV-Ev",
        "outputId": "d01ce9f8-dff7-4930-fad5-bca73df7edde"
      },
      "outputs": [
        {
          "output_type": "stream",
          "name": "stdout",
          "text": [
            "Drive already mounted at /content/drive; to attempt to forcibly remount, call drive.mount(\"/content/drive\", force_remount=True).\n"
          ]
        }
      ],
      "source": [
        "from google.colab import drive\n",
        "drive.mount('/content/drive')"
      ]
    },
    {
      "cell_type": "code",
      "execution_count": 102,
      "metadata": {
        "id": "30kedh-IU9LF"
      },
      "outputs": [],
      "source": [
        "import pandas as pd\n",
        "import matplotlib.pyplot as plt\n",
        "import seaborn as sns\n",
        "\n",
        "from sklearn.preprocessing import OneHotEncoder\n",
        "from sklearn.model_selection import train_test_split, GridSearchCV\n",
        "from sklearn.linear_model import LogisticRegression\n",
        "from sklearn.neighbors import KNeighborsClassifier\n",
        "from sklearn.tree import DecisionTreeClassifier\n",
        "from sklearn.svm import SVC\n",
        "from sklearn.metrics import accuracy_score, recall_score, precision_score, roc_auc_score, roc_curve, confusion_matrix, ConfusionMatrixDisplay, f1_score\n",
        "from time import time\n"
      ]
    },
    {
      "cell_type": "code",
      "execution_count": 103,
      "metadata": {
        "id": "BCPVCjR8U9LF"
      },
      "outputs": [],
      "source": [
        "df = pd.read_csv('/content/drive/MyDrive/AI Course with UC Berkely/practical_application_starter/module_17_starter-Practical application III/data/bank-additional-full.csv',sep=\";\")"
      ]
    },
    {
      "cell_type": "code",
      "execution_count": 104,
      "metadata": {
        "colab": {
          "base_uri": "https://localhost:8080/",
          "height": 236
        },
        "id": "pVVxqOEMU9LF",
        "outputId": "6b417f02-03f7-4291-f6c6-97fc0a083d27"
      },
      "outputs": [
        {
          "output_type": "execute_result",
          "data": {
            "text/plain": [
              "   age        job  marital    education  default housing loan    contact  \\\n",
              "0   56  housemaid  married     basic.4y       no      no   no  telephone   \n",
              "1   57   services  married  high.school  unknown      no   no  telephone   \n",
              "2   37   services  married  high.school       no     yes   no  telephone   \n",
              "3   40     admin.  married     basic.6y       no      no   no  telephone   \n",
              "4   56   services  married  high.school       no      no  yes  telephone   \n",
              "\n",
              "  month day_of_week  ...  campaign  pdays  previous     poutcome emp.var.rate  \\\n",
              "0   may         mon  ...         1    999         0  nonexistent          1.1   \n",
              "1   may         mon  ...         1    999         0  nonexistent          1.1   \n",
              "2   may         mon  ...         1    999         0  nonexistent          1.1   \n",
              "3   may         mon  ...         1    999         0  nonexistent          1.1   \n",
              "4   may         mon  ...         1    999         0  nonexistent          1.1   \n",
              "\n",
              "   cons.price.idx  cons.conf.idx  euribor3m  nr.employed   y  \n",
              "0          93.994          -36.4      4.857       5191.0  no  \n",
              "1          93.994          -36.4      4.857       5191.0  no  \n",
              "2          93.994          -36.4      4.857       5191.0  no  \n",
              "3          93.994          -36.4      4.857       5191.0  no  \n",
              "4          93.994          -36.4      4.857       5191.0  no  \n",
              "\n",
              "[5 rows x 21 columns]"
            ],
            "text/html": [
              "\n",
              "  <div id=\"df-b71616dd-e1cc-4179-9d16-567ed1620822\" class=\"colab-df-container\">\n",
              "    <div>\n",
              "<style scoped>\n",
              "    .dataframe tbody tr th:only-of-type {\n",
              "        vertical-align: middle;\n",
              "    }\n",
              "\n",
              "    .dataframe tbody tr th {\n",
              "        vertical-align: top;\n",
              "    }\n",
              "\n",
              "    .dataframe thead th {\n",
              "        text-align: right;\n",
              "    }\n",
              "</style>\n",
              "<table border=\"1\" class=\"dataframe\">\n",
              "  <thead>\n",
              "    <tr style=\"text-align: right;\">\n",
              "      <th></th>\n",
              "      <th>age</th>\n",
              "      <th>job</th>\n",
              "      <th>marital</th>\n",
              "      <th>education</th>\n",
              "      <th>default</th>\n",
              "      <th>housing</th>\n",
              "      <th>loan</th>\n",
              "      <th>contact</th>\n",
              "      <th>month</th>\n",
              "      <th>day_of_week</th>\n",
              "      <th>...</th>\n",
              "      <th>campaign</th>\n",
              "      <th>pdays</th>\n",
              "      <th>previous</th>\n",
              "      <th>poutcome</th>\n",
              "      <th>emp.var.rate</th>\n",
              "      <th>cons.price.idx</th>\n",
              "      <th>cons.conf.idx</th>\n",
              "      <th>euribor3m</th>\n",
              "      <th>nr.employed</th>\n",
              "      <th>y</th>\n",
              "    </tr>\n",
              "  </thead>\n",
              "  <tbody>\n",
              "    <tr>\n",
              "      <th>0</th>\n",
              "      <td>56</td>\n",
              "      <td>housemaid</td>\n",
              "      <td>married</td>\n",
              "      <td>basic.4y</td>\n",
              "      <td>no</td>\n",
              "      <td>no</td>\n",
              "      <td>no</td>\n",
              "      <td>telephone</td>\n",
              "      <td>may</td>\n",
              "      <td>mon</td>\n",
              "      <td>...</td>\n",
              "      <td>1</td>\n",
              "      <td>999</td>\n",
              "      <td>0</td>\n",
              "      <td>nonexistent</td>\n",
              "      <td>1.1</td>\n",
              "      <td>93.994</td>\n",
              "      <td>-36.4</td>\n",
              "      <td>4.857</td>\n",
              "      <td>5191.0</td>\n",
              "      <td>no</td>\n",
              "    </tr>\n",
              "    <tr>\n",
              "      <th>1</th>\n",
              "      <td>57</td>\n",
              "      <td>services</td>\n",
              "      <td>married</td>\n",
              "      <td>high.school</td>\n",
              "      <td>unknown</td>\n",
              "      <td>no</td>\n",
              "      <td>no</td>\n",
              "      <td>telephone</td>\n",
              "      <td>may</td>\n",
              "      <td>mon</td>\n",
              "      <td>...</td>\n",
              "      <td>1</td>\n",
              "      <td>999</td>\n",
              "      <td>0</td>\n",
              "      <td>nonexistent</td>\n",
              "      <td>1.1</td>\n",
              "      <td>93.994</td>\n",
              "      <td>-36.4</td>\n",
              "      <td>4.857</td>\n",
              "      <td>5191.0</td>\n",
              "      <td>no</td>\n",
              "    </tr>\n",
              "    <tr>\n",
              "      <th>2</th>\n",
              "      <td>37</td>\n",
              "      <td>services</td>\n",
              "      <td>married</td>\n",
              "      <td>high.school</td>\n",
              "      <td>no</td>\n",
              "      <td>yes</td>\n",
              "      <td>no</td>\n",
              "      <td>telephone</td>\n",
              "      <td>may</td>\n",
              "      <td>mon</td>\n",
              "      <td>...</td>\n",
              "      <td>1</td>\n",
              "      <td>999</td>\n",
              "      <td>0</td>\n",
              "      <td>nonexistent</td>\n",
              "      <td>1.1</td>\n",
              "      <td>93.994</td>\n",
              "      <td>-36.4</td>\n",
              "      <td>4.857</td>\n",
              "      <td>5191.0</td>\n",
              "      <td>no</td>\n",
              "    </tr>\n",
              "    <tr>\n",
              "      <th>3</th>\n",
              "      <td>40</td>\n",
              "      <td>admin.</td>\n",
              "      <td>married</td>\n",
              "      <td>basic.6y</td>\n",
              "      <td>no</td>\n",
              "      <td>no</td>\n",
              "      <td>no</td>\n",
              "      <td>telephone</td>\n",
              "      <td>may</td>\n",
              "      <td>mon</td>\n",
              "      <td>...</td>\n",
              "      <td>1</td>\n",
              "      <td>999</td>\n",
              "      <td>0</td>\n",
              "      <td>nonexistent</td>\n",
              "      <td>1.1</td>\n",
              "      <td>93.994</td>\n",
              "      <td>-36.4</td>\n",
              "      <td>4.857</td>\n",
              "      <td>5191.0</td>\n",
              "      <td>no</td>\n",
              "    </tr>\n",
              "    <tr>\n",
              "      <th>4</th>\n",
              "      <td>56</td>\n",
              "      <td>services</td>\n",
              "      <td>married</td>\n",
              "      <td>high.school</td>\n",
              "      <td>no</td>\n",
              "      <td>no</td>\n",
              "      <td>yes</td>\n",
              "      <td>telephone</td>\n",
              "      <td>may</td>\n",
              "      <td>mon</td>\n",
              "      <td>...</td>\n",
              "      <td>1</td>\n",
              "      <td>999</td>\n",
              "      <td>0</td>\n",
              "      <td>nonexistent</td>\n",
              "      <td>1.1</td>\n",
              "      <td>93.994</td>\n",
              "      <td>-36.4</td>\n",
              "      <td>4.857</td>\n",
              "      <td>5191.0</td>\n",
              "      <td>no</td>\n",
              "    </tr>\n",
              "  </tbody>\n",
              "</table>\n",
              "<p>5 rows × 21 columns</p>\n",
              "</div>\n",
              "    <div class=\"colab-df-buttons\">\n",
              "\n",
              "  <div class=\"colab-df-container\">\n",
              "    <button class=\"colab-df-convert\" onclick=\"convertToInteractive('df-b71616dd-e1cc-4179-9d16-567ed1620822')\"\n",
              "            title=\"Convert this dataframe to an interactive table.\"\n",
              "            style=\"display:none;\">\n",
              "\n",
              "  <svg xmlns=\"http://www.w3.org/2000/svg\" height=\"24px\" viewBox=\"0 -960 960 960\">\n",
              "    <path d=\"M120-120v-720h720v720H120Zm60-500h600v-160H180v160Zm220 220h160v-160H400v160Zm0 220h160v-160H400v160ZM180-400h160v-160H180v160Zm440 0h160v-160H620v160ZM180-180h160v-160H180v160Zm440 0h160v-160H620v160Z\"/>\n",
              "  </svg>\n",
              "    </button>\n",
              "\n",
              "  <style>\n",
              "    .colab-df-container {\n",
              "      display:flex;\n",
              "      gap: 12px;\n",
              "    }\n",
              "\n",
              "    .colab-df-convert {\n",
              "      background-color: #E8F0FE;\n",
              "      border: none;\n",
              "      border-radius: 50%;\n",
              "      cursor: pointer;\n",
              "      display: none;\n",
              "      fill: #1967D2;\n",
              "      height: 32px;\n",
              "      padding: 0 0 0 0;\n",
              "      width: 32px;\n",
              "    }\n",
              "\n",
              "    .colab-df-convert:hover {\n",
              "      background-color: #E2EBFA;\n",
              "      box-shadow: 0px 1px 2px rgba(60, 64, 67, 0.3), 0px 1px 3px 1px rgba(60, 64, 67, 0.15);\n",
              "      fill: #174EA6;\n",
              "    }\n",
              "\n",
              "    .colab-df-buttons div {\n",
              "      margin-bottom: 4px;\n",
              "    }\n",
              "\n",
              "    [theme=dark] .colab-df-convert {\n",
              "      background-color: #3B4455;\n",
              "      fill: #D2E3FC;\n",
              "    }\n",
              "\n",
              "    [theme=dark] .colab-df-convert:hover {\n",
              "      background-color: #434B5C;\n",
              "      box-shadow: 0px 1px 3px 1px rgba(0, 0, 0, 0.15);\n",
              "      filter: drop-shadow(0px 1px 2px rgba(0, 0, 0, 0.3));\n",
              "      fill: #FFFFFF;\n",
              "    }\n",
              "  </style>\n",
              "\n",
              "    <script>\n",
              "      const buttonEl =\n",
              "        document.querySelector('#df-b71616dd-e1cc-4179-9d16-567ed1620822 button.colab-df-convert');\n",
              "      buttonEl.style.display =\n",
              "        google.colab.kernel.accessAllowed ? 'block' : 'none';\n",
              "\n",
              "      async function convertToInteractive(key) {\n",
              "        const element = document.querySelector('#df-b71616dd-e1cc-4179-9d16-567ed1620822');\n",
              "        const dataTable =\n",
              "          await google.colab.kernel.invokeFunction('convertToInteractive',\n",
              "                                                    [key], {});\n",
              "        if (!dataTable) return;\n",
              "\n",
              "        const docLinkHtml = 'Like what you see? Visit the ' +\n",
              "          '<a target=\"_blank\" href=https://colab.research.google.com/notebooks/data_table.ipynb>data table notebook</a>'\n",
              "          + ' to learn more about interactive tables.';\n",
              "        element.innerHTML = '';\n",
              "        dataTable['output_type'] = 'display_data';\n",
              "        await google.colab.output.renderOutput(dataTable, element);\n",
              "        const docLink = document.createElement('div');\n",
              "        docLink.innerHTML = docLinkHtml;\n",
              "        element.appendChild(docLink);\n",
              "      }\n",
              "    </script>\n",
              "  </div>\n",
              "\n",
              "\n",
              "<div id=\"df-2e8dd013-a3f9-4ffe-9086-273681ab7ab0\">\n",
              "  <button class=\"colab-df-quickchart\" onclick=\"quickchart('df-2e8dd013-a3f9-4ffe-9086-273681ab7ab0')\"\n",
              "            title=\"Suggest charts\"\n",
              "            style=\"display:none;\">\n",
              "\n",
              "<svg xmlns=\"http://www.w3.org/2000/svg\" height=\"24px\"viewBox=\"0 0 24 24\"\n",
              "     width=\"24px\">\n",
              "    <g>\n",
              "        <path d=\"M19 3H5c-1.1 0-2 .9-2 2v14c0 1.1.9 2 2 2h14c1.1 0 2-.9 2-2V5c0-1.1-.9-2-2-2zM9 17H7v-7h2v7zm4 0h-2V7h2v10zm4 0h-2v-4h2v4z\"/>\n",
              "    </g>\n",
              "</svg>\n",
              "  </button>\n",
              "\n",
              "<style>\n",
              "  .colab-df-quickchart {\n",
              "      --bg-color: #E8F0FE;\n",
              "      --fill-color: #1967D2;\n",
              "      --hover-bg-color: #E2EBFA;\n",
              "      --hover-fill-color: #174EA6;\n",
              "      --disabled-fill-color: #AAA;\n",
              "      --disabled-bg-color: #DDD;\n",
              "  }\n",
              "\n",
              "  [theme=dark] .colab-df-quickchart {\n",
              "      --bg-color: #3B4455;\n",
              "      --fill-color: #D2E3FC;\n",
              "      --hover-bg-color: #434B5C;\n",
              "      --hover-fill-color: #FFFFFF;\n",
              "      --disabled-bg-color: #3B4455;\n",
              "      --disabled-fill-color: #666;\n",
              "  }\n",
              "\n",
              "  .colab-df-quickchart {\n",
              "    background-color: var(--bg-color);\n",
              "    border: none;\n",
              "    border-radius: 50%;\n",
              "    cursor: pointer;\n",
              "    display: none;\n",
              "    fill: var(--fill-color);\n",
              "    height: 32px;\n",
              "    padding: 0;\n",
              "    width: 32px;\n",
              "  }\n",
              "\n",
              "  .colab-df-quickchart:hover {\n",
              "    background-color: var(--hover-bg-color);\n",
              "    box-shadow: 0 1px 2px rgba(60, 64, 67, 0.3), 0 1px 3px 1px rgba(60, 64, 67, 0.15);\n",
              "    fill: var(--button-hover-fill-color);\n",
              "  }\n",
              "\n",
              "  .colab-df-quickchart-complete:disabled,\n",
              "  .colab-df-quickchart-complete:disabled:hover {\n",
              "    background-color: var(--disabled-bg-color);\n",
              "    fill: var(--disabled-fill-color);\n",
              "    box-shadow: none;\n",
              "  }\n",
              "\n",
              "  .colab-df-spinner {\n",
              "    border: 2px solid var(--fill-color);\n",
              "    border-color: transparent;\n",
              "    border-bottom-color: var(--fill-color);\n",
              "    animation:\n",
              "      spin 1s steps(1) infinite;\n",
              "  }\n",
              "\n",
              "  @keyframes spin {\n",
              "    0% {\n",
              "      border-color: transparent;\n",
              "      border-bottom-color: var(--fill-color);\n",
              "      border-left-color: var(--fill-color);\n",
              "    }\n",
              "    20% {\n",
              "      border-color: transparent;\n",
              "      border-left-color: var(--fill-color);\n",
              "      border-top-color: var(--fill-color);\n",
              "    }\n",
              "    30% {\n",
              "      border-color: transparent;\n",
              "      border-left-color: var(--fill-color);\n",
              "      border-top-color: var(--fill-color);\n",
              "      border-right-color: var(--fill-color);\n",
              "    }\n",
              "    40% {\n",
              "      border-color: transparent;\n",
              "      border-right-color: var(--fill-color);\n",
              "      border-top-color: var(--fill-color);\n",
              "    }\n",
              "    60% {\n",
              "      border-color: transparent;\n",
              "      border-right-color: var(--fill-color);\n",
              "    }\n",
              "    80% {\n",
              "      border-color: transparent;\n",
              "      border-right-color: var(--fill-color);\n",
              "      border-bottom-color: var(--fill-color);\n",
              "    }\n",
              "    90% {\n",
              "      border-color: transparent;\n",
              "      border-bottom-color: var(--fill-color);\n",
              "    }\n",
              "  }\n",
              "</style>\n",
              "\n",
              "  <script>\n",
              "    async function quickchart(key) {\n",
              "      const quickchartButtonEl =\n",
              "        document.querySelector('#' + key + ' button');\n",
              "      quickchartButtonEl.disabled = true;  // To prevent multiple clicks.\n",
              "      quickchartButtonEl.classList.add('colab-df-spinner');\n",
              "      try {\n",
              "        const charts = await google.colab.kernel.invokeFunction(\n",
              "            'suggestCharts', [key], {});\n",
              "      } catch (error) {\n",
              "        console.error('Error during call to suggestCharts:', error);\n",
              "      }\n",
              "      quickchartButtonEl.classList.remove('colab-df-spinner');\n",
              "      quickchartButtonEl.classList.add('colab-df-quickchart-complete');\n",
              "    }\n",
              "    (() => {\n",
              "      let quickchartButtonEl =\n",
              "        document.querySelector('#df-2e8dd013-a3f9-4ffe-9086-273681ab7ab0 button');\n",
              "      quickchartButtonEl.style.display =\n",
              "        google.colab.kernel.accessAllowed ? 'block' : 'none';\n",
              "    })();\n",
              "  </script>\n",
              "</div>\n",
              "\n",
              "    </div>\n",
              "  </div>\n"
            ],
            "application/vnd.google.colaboratory.intrinsic+json": {
              "type": "dataframe",
              "variable_name": "df"
            }
          },
          "metadata": {},
          "execution_count": 104
        }
      ],
      "source": [
        "df.head()"
      ]
    },
    {
      "cell_type": "markdown",
      "metadata": {
        "id": "Eu5Xi3a3U9LG"
      },
      "source": [
        "### Problem 3: Understanding the Features\n",
        "\n",
        "\n",
        "Examine the data description below, and determine if any of the features are missing values or need to be coerced to a different data type.\n",
        "\n",
        "\n",
        "```\n",
        "Input variables:\n",
        "# bank client data:\n",
        "1 - age (numeric)\n",
        "2 - job : type of job (categorical: 'admin.','blue-collar','entrepreneur','housemaid','management','retired','self-employed','services','student','technician','unemployed','unknown')\n",
        "3 - marital : marital status (categorical: 'divorced','married','single','unknown'; note: 'divorced' means divorced or widowed)\n",
        "4 - education (categorical: 'basic.4y','basic.6y','basic.9y','high.school','illiterate','professional.course','university.degree','unknown')\n",
        "5 - default: has credit in default? (categorical: 'no','yes','unknown')\n",
        "6 - housing: has housing loan? (categorical: 'no','yes','unknown')\n",
        "7 - loan: has personal loan? (categorical: 'no','yes','unknown')\n",
        "# related with the last contact of the current campaign:\n",
        "8 - contact: contact communication type (categorical: 'cellular','telephone')\n",
        "9 - month: last contact month of year (categorical: 'jan', 'feb', 'mar', ..., 'nov', 'dec')\n",
        "10 - day_of_week: last contact day of the week (categorical: 'mon','tue','wed','thu','fri')\n",
        "11 - duration: last contact duration, in seconds (numeric). Important note: this attribute highly affects the output target (e.g., if duration=0 then y='no'). Yet, the duration is not known before a call is performed. Also, after the end of the call y is obviously known. Thus, this input should only be included for benchmark purposes and should be discarded if the intention is to have a realistic predictive model.\n",
        "# other attributes:\n",
        "12 - campaign: number of contacts performed during this campaign and for this client (numeric, includes last contact)\n",
        "13 - pdays: number of days that passed by after the client was last contacted from a previous campaign (numeric; 999 means client was not previously contacted)\n",
        "14 - previous: number of contacts performed before this campaign and for this client (numeric)\n",
        "15 - poutcome: outcome of the previous marketing campaign (categorical: 'failure','nonexistent','success')\n",
        "# social and economic context attributes\n",
        "16 - emp.var.rate: employment variation rate - quarterly indicator (numeric)\n",
        "17 - cons.price.idx: consumer price index - monthly indicator (numeric)\n",
        "18 - cons.conf.idx: consumer confidence index - monthly indicator (numeric)\n",
        "19 - euribor3m: euribor 3 month rate - daily indicator (numeric)\n",
        "20 - nr.employed: number of employees - quarterly indicator (numeric)\n",
        "\n",
        "Output variable (desired target):\n",
        "21 - y - has the client subscribed a term deposit? (binary: 'yes','no')\n",
        "```\n",
        "\n"
      ]
    },
    {
      "cell_type": "code",
      "execution_count": 105,
      "metadata": {
        "colab": {
          "base_uri": "https://localhost:8080/"
        },
        "id": "x2XfMXAfU9LG",
        "outputId": "56f99941-9fe7-4a9f-9d6b-279738a2af00"
      },
      "outputs": [
        {
          "output_type": "execute_result",
          "data": {
            "text/plain": [
              "age               0\n",
              "job               0\n",
              "marital           0\n",
              "education         0\n",
              "default           0\n",
              "housing           0\n",
              "loan              0\n",
              "contact           0\n",
              "month             0\n",
              "day_of_week       0\n",
              "duration          0\n",
              "campaign          0\n",
              "pdays             0\n",
              "previous          0\n",
              "poutcome          0\n",
              "emp.var.rate      0\n",
              "cons.price.idx    0\n",
              "cons.conf.idx     0\n",
              "euribor3m         0\n",
              "nr.employed       0\n",
              "y                 0\n",
              "dtype: int64"
            ]
          },
          "metadata": {},
          "execution_count": 105
        }
      ],
      "source": [
        "# check for missing values\n",
        "df.isna().sum()"
      ]
    },
    {
      "cell_type": "code",
      "execution_count": 106,
      "metadata": {
        "colab": {
          "base_uri": "https://localhost:8080/"
        },
        "id": "nzXGTirIU9LH",
        "outputId": "29ab6f17-e1b9-4f7c-b8b2-fc455d57988e"
      },
      "outputs": [
        {
          "output_type": "stream",
          "name": "stdout",
          "text": [
            "<class 'pandas.core.frame.DataFrame'>\n",
            "RangeIndex: 41188 entries, 0 to 41187\n",
            "Data columns (total 21 columns):\n",
            " #   Column          Non-Null Count  Dtype  \n",
            "---  ------          --------------  -----  \n",
            " 0   age             41188 non-null  int64  \n",
            " 1   job             41188 non-null  object \n",
            " 2   marital         41188 non-null  object \n",
            " 3   education       41188 non-null  object \n",
            " 4   default         41188 non-null  object \n",
            " 5   housing         41188 non-null  object \n",
            " 6   loan            41188 non-null  object \n",
            " 7   contact         41188 non-null  object \n",
            " 8   month           41188 non-null  object \n",
            " 9   day_of_week     41188 non-null  object \n",
            " 10  duration        41188 non-null  int64  \n",
            " 11  campaign        41188 non-null  int64  \n",
            " 12  pdays           41188 non-null  int64  \n",
            " 13  previous        41188 non-null  int64  \n",
            " 14  poutcome        41188 non-null  object \n",
            " 15  emp.var.rate    41188 non-null  float64\n",
            " 16  cons.price.idx  41188 non-null  float64\n",
            " 17  cons.conf.idx   41188 non-null  float64\n",
            " 18  euribor3m       41188 non-null  float64\n",
            " 19  nr.employed     41188 non-null  float64\n",
            " 20  y               41188 non-null  object \n",
            "dtypes: float64(5), int64(5), object(11)\n",
            "memory usage: 6.6+ MB\n"
          ]
        }
      ],
      "source": [
        "df.info()"
      ]
    },
    {
      "cell_type": "markdown",
      "metadata": {
        "id": "OS-RXF7JU9LH"
      },
      "source": [
        "### Problem 4: Understanding the Task\n",
        "\n",
        "After examining the description and data, your goal now is to clearly state the *Business Objective* of the task.  State the objective below."
      ]
    },
    {
      "cell_type": "markdown",
      "metadata": {
        "id": "tZbPrK30W9A4"
      },
      "source": [
        "The objective is to predict whether client will subscribe to a term depsoit (yes=1) or not (no=0)"
      ]
    },
    {
      "cell_type": "markdown",
      "metadata": {
        "id": "T5QZyGjSU9LH"
      },
      "source": [
        "### Problem 5: Engineering Features\n",
        "\n",
        "Now that you understand your business objective, we will build a basic model to get started.  Before we can do this, we must work to encode the data.  Using just the bank information features (columns 1 - 7), prepare the features and target column for modeling with appropriate encoding and transformations."
      ]
    },
    {
      "cell_type": "code",
      "execution_count": 107,
      "metadata": {
        "colab": {
          "base_uri": "https://localhost:8080/"
        },
        "id": "3Bziu9QBXpJc",
        "outputId": "af1906d6-fe1c-4b16-e7e9-db36f485fab3"
      },
      "outputs": [
        {
          "output_type": "execute_result",
          "data": {
            "text/plain": [
              "['age', 'job', 'marital', 'education', 'default', 'housing', 'loan']"
            ]
          },
          "metadata": {},
          "execution_count": 107
        }
      ],
      "source": [
        "# bank information features\n",
        "features_bank_info = df.iloc[:,:7].columns.tolist()\n",
        "features_bank_info"
      ]
    },
    {
      "cell_type": "code",
      "execution_count": 108,
      "metadata": {
        "colab": {
          "base_uri": "https://localhost:8080/",
          "height": 424
        },
        "id": "i5Mz73pPbdLY",
        "outputId": "4e3e755e-c740-4aa2-c713-69e480070dae"
      },
      "outputs": [
        {
          "output_type": "execute_result",
          "data": {
            "text/plain": [
              "       age          job  marital            education  default housing loan\n",
              "0       56    housemaid  married             basic.4y       no      no   no\n",
              "1       57     services  married          high.school  unknown      no   no\n",
              "2       37     services  married          high.school       no     yes   no\n",
              "3       40       admin.  married             basic.6y       no      no   no\n",
              "4       56     services  married          high.school       no      no  yes\n",
              "...    ...          ...      ...                  ...      ...     ...  ...\n",
              "41183   73      retired  married  professional.course       no     yes   no\n",
              "41184   46  blue-collar  married  professional.course       no      no   no\n",
              "41185   56      retired  married    university.degree       no     yes   no\n",
              "41186   44   technician  married  professional.course       no      no   no\n",
              "41187   74      retired  married  professional.course       no     yes   no\n",
              "\n",
              "[41188 rows x 7 columns]"
            ],
            "text/html": [
              "\n",
              "  <div id=\"df-c0e8df0a-2307-4856-901a-e29d8a5dd96c\" class=\"colab-df-container\">\n",
              "    <div>\n",
              "<style scoped>\n",
              "    .dataframe tbody tr th:only-of-type {\n",
              "        vertical-align: middle;\n",
              "    }\n",
              "\n",
              "    .dataframe tbody tr th {\n",
              "        vertical-align: top;\n",
              "    }\n",
              "\n",
              "    .dataframe thead th {\n",
              "        text-align: right;\n",
              "    }\n",
              "</style>\n",
              "<table border=\"1\" class=\"dataframe\">\n",
              "  <thead>\n",
              "    <tr style=\"text-align: right;\">\n",
              "      <th></th>\n",
              "      <th>age</th>\n",
              "      <th>job</th>\n",
              "      <th>marital</th>\n",
              "      <th>education</th>\n",
              "      <th>default</th>\n",
              "      <th>housing</th>\n",
              "      <th>loan</th>\n",
              "    </tr>\n",
              "  </thead>\n",
              "  <tbody>\n",
              "    <tr>\n",
              "      <th>0</th>\n",
              "      <td>56</td>\n",
              "      <td>housemaid</td>\n",
              "      <td>married</td>\n",
              "      <td>basic.4y</td>\n",
              "      <td>no</td>\n",
              "      <td>no</td>\n",
              "      <td>no</td>\n",
              "    </tr>\n",
              "    <tr>\n",
              "      <th>1</th>\n",
              "      <td>57</td>\n",
              "      <td>services</td>\n",
              "      <td>married</td>\n",
              "      <td>high.school</td>\n",
              "      <td>unknown</td>\n",
              "      <td>no</td>\n",
              "      <td>no</td>\n",
              "    </tr>\n",
              "    <tr>\n",
              "      <th>2</th>\n",
              "      <td>37</td>\n",
              "      <td>services</td>\n",
              "      <td>married</td>\n",
              "      <td>high.school</td>\n",
              "      <td>no</td>\n",
              "      <td>yes</td>\n",
              "      <td>no</td>\n",
              "    </tr>\n",
              "    <tr>\n",
              "      <th>3</th>\n",
              "      <td>40</td>\n",
              "      <td>admin.</td>\n",
              "      <td>married</td>\n",
              "      <td>basic.6y</td>\n",
              "      <td>no</td>\n",
              "      <td>no</td>\n",
              "      <td>no</td>\n",
              "    </tr>\n",
              "    <tr>\n",
              "      <th>4</th>\n",
              "      <td>56</td>\n",
              "      <td>services</td>\n",
              "      <td>married</td>\n",
              "      <td>high.school</td>\n",
              "      <td>no</td>\n",
              "      <td>no</td>\n",
              "      <td>yes</td>\n",
              "    </tr>\n",
              "    <tr>\n",
              "      <th>...</th>\n",
              "      <td>...</td>\n",
              "      <td>...</td>\n",
              "      <td>...</td>\n",
              "      <td>...</td>\n",
              "      <td>...</td>\n",
              "      <td>...</td>\n",
              "      <td>...</td>\n",
              "    </tr>\n",
              "    <tr>\n",
              "      <th>41183</th>\n",
              "      <td>73</td>\n",
              "      <td>retired</td>\n",
              "      <td>married</td>\n",
              "      <td>professional.course</td>\n",
              "      <td>no</td>\n",
              "      <td>yes</td>\n",
              "      <td>no</td>\n",
              "    </tr>\n",
              "    <tr>\n",
              "      <th>41184</th>\n",
              "      <td>46</td>\n",
              "      <td>blue-collar</td>\n",
              "      <td>married</td>\n",
              "      <td>professional.course</td>\n",
              "      <td>no</td>\n",
              "      <td>no</td>\n",
              "      <td>no</td>\n",
              "    </tr>\n",
              "    <tr>\n",
              "      <th>41185</th>\n",
              "      <td>56</td>\n",
              "      <td>retired</td>\n",
              "      <td>married</td>\n",
              "      <td>university.degree</td>\n",
              "      <td>no</td>\n",
              "      <td>yes</td>\n",
              "      <td>no</td>\n",
              "    </tr>\n",
              "    <tr>\n",
              "      <th>41186</th>\n",
              "      <td>44</td>\n",
              "      <td>technician</td>\n",
              "      <td>married</td>\n",
              "      <td>professional.course</td>\n",
              "      <td>no</td>\n",
              "      <td>no</td>\n",
              "      <td>no</td>\n",
              "    </tr>\n",
              "    <tr>\n",
              "      <th>41187</th>\n",
              "      <td>74</td>\n",
              "      <td>retired</td>\n",
              "      <td>married</td>\n",
              "      <td>professional.course</td>\n",
              "      <td>no</td>\n",
              "      <td>yes</td>\n",
              "      <td>no</td>\n",
              "    </tr>\n",
              "  </tbody>\n",
              "</table>\n",
              "<p>41188 rows × 7 columns</p>\n",
              "</div>\n",
              "    <div class=\"colab-df-buttons\">\n",
              "\n",
              "  <div class=\"colab-df-container\">\n",
              "    <button class=\"colab-df-convert\" onclick=\"convertToInteractive('df-c0e8df0a-2307-4856-901a-e29d8a5dd96c')\"\n",
              "            title=\"Convert this dataframe to an interactive table.\"\n",
              "            style=\"display:none;\">\n",
              "\n",
              "  <svg xmlns=\"http://www.w3.org/2000/svg\" height=\"24px\" viewBox=\"0 -960 960 960\">\n",
              "    <path d=\"M120-120v-720h720v720H120Zm60-500h600v-160H180v160Zm220 220h160v-160H400v160Zm0 220h160v-160H400v160ZM180-400h160v-160H180v160Zm440 0h160v-160H620v160ZM180-180h160v-160H180v160Zm440 0h160v-160H620v160Z\"/>\n",
              "  </svg>\n",
              "    </button>\n",
              "\n",
              "  <style>\n",
              "    .colab-df-container {\n",
              "      display:flex;\n",
              "      gap: 12px;\n",
              "    }\n",
              "\n",
              "    .colab-df-convert {\n",
              "      background-color: #E8F0FE;\n",
              "      border: none;\n",
              "      border-radius: 50%;\n",
              "      cursor: pointer;\n",
              "      display: none;\n",
              "      fill: #1967D2;\n",
              "      height: 32px;\n",
              "      padding: 0 0 0 0;\n",
              "      width: 32px;\n",
              "    }\n",
              "\n",
              "    .colab-df-convert:hover {\n",
              "      background-color: #E2EBFA;\n",
              "      box-shadow: 0px 1px 2px rgba(60, 64, 67, 0.3), 0px 1px 3px 1px rgba(60, 64, 67, 0.15);\n",
              "      fill: #174EA6;\n",
              "    }\n",
              "\n",
              "    .colab-df-buttons div {\n",
              "      margin-bottom: 4px;\n",
              "    }\n",
              "\n",
              "    [theme=dark] .colab-df-convert {\n",
              "      background-color: #3B4455;\n",
              "      fill: #D2E3FC;\n",
              "    }\n",
              "\n",
              "    [theme=dark] .colab-df-convert:hover {\n",
              "      background-color: #434B5C;\n",
              "      box-shadow: 0px 1px 3px 1px rgba(0, 0, 0, 0.15);\n",
              "      filter: drop-shadow(0px 1px 2px rgba(0, 0, 0, 0.3));\n",
              "      fill: #FFFFFF;\n",
              "    }\n",
              "  </style>\n",
              "\n",
              "    <script>\n",
              "      const buttonEl =\n",
              "        document.querySelector('#df-c0e8df0a-2307-4856-901a-e29d8a5dd96c button.colab-df-convert');\n",
              "      buttonEl.style.display =\n",
              "        google.colab.kernel.accessAllowed ? 'block' : 'none';\n",
              "\n",
              "      async function convertToInteractive(key) {\n",
              "        const element = document.querySelector('#df-c0e8df0a-2307-4856-901a-e29d8a5dd96c');\n",
              "        const dataTable =\n",
              "          await google.colab.kernel.invokeFunction('convertToInteractive',\n",
              "                                                    [key], {});\n",
              "        if (!dataTable) return;\n",
              "\n",
              "        const docLinkHtml = 'Like what you see? Visit the ' +\n",
              "          '<a target=\"_blank\" href=https://colab.research.google.com/notebooks/data_table.ipynb>data table notebook</a>'\n",
              "          + ' to learn more about interactive tables.';\n",
              "        element.innerHTML = '';\n",
              "        dataTable['output_type'] = 'display_data';\n",
              "        await google.colab.output.renderOutput(dataTable, element);\n",
              "        const docLink = document.createElement('div');\n",
              "        docLink.innerHTML = docLinkHtml;\n",
              "        element.appendChild(docLink);\n",
              "      }\n",
              "    </script>\n",
              "  </div>\n",
              "\n",
              "\n",
              "<div id=\"df-ea14ee21-e867-42a9-bb56-6f18b2183272\">\n",
              "  <button class=\"colab-df-quickchart\" onclick=\"quickchart('df-ea14ee21-e867-42a9-bb56-6f18b2183272')\"\n",
              "            title=\"Suggest charts\"\n",
              "            style=\"display:none;\">\n",
              "\n",
              "<svg xmlns=\"http://www.w3.org/2000/svg\" height=\"24px\"viewBox=\"0 0 24 24\"\n",
              "     width=\"24px\">\n",
              "    <g>\n",
              "        <path d=\"M19 3H5c-1.1 0-2 .9-2 2v14c0 1.1.9 2 2 2h14c1.1 0 2-.9 2-2V5c0-1.1-.9-2-2-2zM9 17H7v-7h2v7zm4 0h-2V7h2v10zm4 0h-2v-4h2v4z\"/>\n",
              "    </g>\n",
              "</svg>\n",
              "  </button>\n",
              "\n",
              "<style>\n",
              "  .colab-df-quickchart {\n",
              "      --bg-color: #E8F0FE;\n",
              "      --fill-color: #1967D2;\n",
              "      --hover-bg-color: #E2EBFA;\n",
              "      --hover-fill-color: #174EA6;\n",
              "      --disabled-fill-color: #AAA;\n",
              "      --disabled-bg-color: #DDD;\n",
              "  }\n",
              "\n",
              "  [theme=dark] .colab-df-quickchart {\n",
              "      --bg-color: #3B4455;\n",
              "      --fill-color: #D2E3FC;\n",
              "      --hover-bg-color: #434B5C;\n",
              "      --hover-fill-color: #FFFFFF;\n",
              "      --disabled-bg-color: #3B4455;\n",
              "      --disabled-fill-color: #666;\n",
              "  }\n",
              "\n",
              "  .colab-df-quickchart {\n",
              "    background-color: var(--bg-color);\n",
              "    border: none;\n",
              "    border-radius: 50%;\n",
              "    cursor: pointer;\n",
              "    display: none;\n",
              "    fill: var(--fill-color);\n",
              "    height: 32px;\n",
              "    padding: 0;\n",
              "    width: 32px;\n",
              "  }\n",
              "\n",
              "  .colab-df-quickchart:hover {\n",
              "    background-color: var(--hover-bg-color);\n",
              "    box-shadow: 0 1px 2px rgba(60, 64, 67, 0.3), 0 1px 3px 1px rgba(60, 64, 67, 0.15);\n",
              "    fill: var(--button-hover-fill-color);\n",
              "  }\n",
              "\n",
              "  .colab-df-quickchart-complete:disabled,\n",
              "  .colab-df-quickchart-complete:disabled:hover {\n",
              "    background-color: var(--disabled-bg-color);\n",
              "    fill: var(--disabled-fill-color);\n",
              "    box-shadow: none;\n",
              "  }\n",
              "\n",
              "  .colab-df-spinner {\n",
              "    border: 2px solid var(--fill-color);\n",
              "    border-color: transparent;\n",
              "    border-bottom-color: var(--fill-color);\n",
              "    animation:\n",
              "      spin 1s steps(1) infinite;\n",
              "  }\n",
              "\n",
              "  @keyframes spin {\n",
              "    0% {\n",
              "      border-color: transparent;\n",
              "      border-bottom-color: var(--fill-color);\n",
              "      border-left-color: var(--fill-color);\n",
              "    }\n",
              "    20% {\n",
              "      border-color: transparent;\n",
              "      border-left-color: var(--fill-color);\n",
              "      border-top-color: var(--fill-color);\n",
              "    }\n",
              "    30% {\n",
              "      border-color: transparent;\n",
              "      border-left-color: var(--fill-color);\n",
              "      border-top-color: var(--fill-color);\n",
              "      border-right-color: var(--fill-color);\n",
              "    }\n",
              "    40% {\n",
              "      border-color: transparent;\n",
              "      border-right-color: var(--fill-color);\n",
              "      border-top-color: var(--fill-color);\n",
              "    }\n",
              "    60% {\n",
              "      border-color: transparent;\n",
              "      border-right-color: var(--fill-color);\n",
              "    }\n",
              "    80% {\n",
              "      border-color: transparent;\n",
              "      border-right-color: var(--fill-color);\n",
              "      border-bottom-color: var(--fill-color);\n",
              "    }\n",
              "    90% {\n",
              "      border-color: transparent;\n",
              "      border-bottom-color: var(--fill-color);\n",
              "    }\n",
              "  }\n",
              "</style>\n",
              "\n",
              "  <script>\n",
              "    async function quickchart(key) {\n",
              "      const quickchartButtonEl =\n",
              "        document.querySelector('#' + key + ' button');\n",
              "      quickchartButtonEl.disabled = true;  // To prevent multiple clicks.\n",
              "      quickchartButtonEl.classList.add('colab-df-spinner');\n",
              "      try {\n",
              "        const charts = await google.colab.kernel.invokeFunction(\n",
              "            'suggestCharts', [key], {});\n",
              "      } catch (error) {\n",
              "        console.error('Error during call to suggestCharts:', error);\n",
              "      }\n",
              "      quickchartButtonEl.classList.remove('colab-df-spinner');\n",
              "      quickchartButtonEl.classList.add('colab-df-quickchart-complete');\n",
              "    }\n",
              "    (() => {\n",
              "      let quickchartButtonEl =\n",
              "        document.querySelector('#df-ea14ee21-e867-42a9-bb56-6f18b2183272 button');\n",
              "      quickchartButtonEl.style.display =\n",
              "        google.colab.kernel.accessAllowed ? 'block' : 'none';\n",
              "    })();\n",
              "  </script>\n",
              "</div>\n",
              "\n",
              "    </div>\n",
              "  </div>\n"
            ],
            "application/vnd.google.colaboratory.intrinsic+json": {
              "type": "dataframe",
              "summary": "{\n  \"name\": \"df[features_bank_info]\",\n  \"rows\": 41188,\n  \"fields\": [\n    {\n      \"column\": \"age\",\n      \"properties\": {\n        \"dtype\": \"number\",\n        \"std\": 10,\n        \"min\": 17,\n        \"max\": 98,\n        \"num_unique_values\": 78,\n        \"samples\": [\n          36,\n          56,\n          28\n        ],\n        \"semantic_type\": \"\",\n        \"description\": \"\"\n      }\n    },\n    {\n      \"column\": \"job\",\n      \"properties\": {\n        \"dtype\": \"category\",\n        \"num_unique_values\": 12,\n        \"samples\": [\n          \"entrepreneur\",\n          \"unknown\",\n          \"housemaid\"\n        ],\n        \"semantic_type\": \"\",\n        \"description\": \"\"\n      }\n    },\n    {\n      \"column\": \"marital\",\n      \"properties\": {\n        \"dtype\": \"category\",\n        \"num_unique_values\": 4,\n        \"samples\": [\n          \"single\",\n          \"unknown\",\n          \"married\"\n        ],\n        \"semantic_type\": \"\",\n        \"description\": \"\"\n      }\n    },\n    {\n      \"column\": \"education\",\n      \"properties\": {\n        \"dtype\": \"category\",\n        \"num_unique_values\": 8,\n        \"samples\": [\n          \"high.school\",\n          \"unknown\",\n          \"basic.4y\"\n        ],\n        \"semantic_type\": \"\",\n        \"description\": \"\"\n      }\n    },\n    {\n      \"column\": \"default\",\n      \"properties\": {\n        \"dtype\": \"category\",\n        \"num_unique_values\": 3,\n        \"samples\": [\n          \"no\",\n          \"unknown\",\n          \"yes\"\n        ],\n        \"semantic_type\": \"\",\n        \"description\": \"\"\n      }\n    },\n    {\n      \"column\": \"housing\",\n      \"properties\": {\n        \"dtype\": \"category\",\n        \"num_unique_values\": 3,\n        \"samples\": [\n          \"no\",\n          \"yes\",\n          \"unknown\"\n        ],\n        \"semantic_type\": \"\",\n        \"description\": \"\"\n      }\n    },\n    {\n      \"column\": \"loan\",\n      \"properties\": {\n        \"dtype\": \"category\",\n        \"num_unique_values\": 3,\n        \"samples\": [\n          \"no\",\n          \"yes\",\n          \"unknown\"\n        ],\n        \"semantic_type\": \"\",\n        \"description\": \"\"\n      }\n    }\n  ]\n}"
            }
          },
          "metadata": {},
          "execution_count": 108
        }
      ],
      "source": [
        "df[features_bank_info]"
      ]
    },
    {
      "cell_type": "code",
      "execution_count": 109,
      "metadata": {
        "colab": {
          "base_uri": "https://localhost:8080/",
          "height": 374
        },
        "id": "LagOpG-qYQpo",
        "outputId": "a20fa41a-f4c6-4d28-ccfb-a49bc109cf5a"
      },
      "outputs": [
        {
          "output_type": "stream",
          "name": "stdout",
          "text": [
            "Shape of df_encoded: (41188, 111)\n",
            "Columns of df_encoded: Index(['age_17', 'age_18', 'age_19', 'age_20', 'age_21', 'age_22', 'age_23',\n",
            "       'age_24', 'age_25', 'age_26',\n",
            "       ...\n",
            "       'education_unknown', 'default_no', 'default_unknown', 'default_yes',\n",
            "       'housing_no', 'housing_unknown', 'housing_yes', 'loan_no',\n",
            "       'loan_unknown', 'loan_yes'],\n",
            "      dtype='object', length=111)\n"
          ]
        },
        {
          "output_type": "execute_result",
          "data": {
            "text/plain": [
              "       age_17  age_18  age_19  age_20  age_21  age_22  age_23  age_24  age_25  \\\n",
              "19511     0.0     0.0     0.0     0.0     0.0     0.0     0.0     0.0     0.0   \n",
              "37747     0.0     0.0     0.0     0.0     0.0     0.0     0.0     1.0     0.0   \n",
              "35303     0.0     0.0     0.0     0.0     0.0     0.0     0.0     0.0     0.0   \n",
              "13221     0.0     0.0     0.0     0.0     0.0     0.0     0.0     1.0     0.0   \n",
              "30949     0.0     0.0     0.0     0.0     0.0     0.0     0.0     0.0     0.0   \n",
              "\n",
              "       age_26  ...  default_no  default_unknown  default_yes  housing_no  \\\n",
              "19511     0.0  ...         0.0              1.0          0.0         0.0   \n",
              "37747     0.0  ...         1.0              0.0          0.0         0.0   \n",
              "35303     0.0  ...         1.0              0.0          0.0         1.0   \n",
              "13221     0.0  ...         1.0              0.0          0.0         1.0   \n",
              "30949     0.0  ...         1.0              0.0          0.0         0.0   \n",
              "\n",
              "       housing_unknown  housing_yes  loan_no  loan_unknown  loan_yes  y  \n",
              "19511              0.0          1.0      0.0           0.0       1.0  0  \n",
              "37747              0.0          1.0      1.0           0.0       0.0  0  \n",
              "35303              0.0          0.0      1.0           0.0       0.0  0  \n",
              "13221              0.0          0.0      1.0           0.0       0.0  0  \n",
              "30949              0.0          1.0      1.0           0.0       0.0  0  \n",
              "\n",
              "[5 rows x 112 columns]"
            ],
            "text/html": [
              "\n",
              "  <div id=\"df-dd74e489-62e9-4851-992d-15faddfe5301\" class=\"colab-df-container\">\n",
              "    <div>\n",
              "<style scoped>\n",
              "    .dataframe tbody tr th:only-of-type {\n",
              "        vertical-align: middle;\n",
              "    }\n",
              "\n",
              "    .dataframe tbody tr th {\n",
              "        vertical-align: top;\n",
              "    }\n",
              "\n",
              "    .dataframe thead th {\n",
              "        text-align: right;\n",
              "    }\n",
              "</style>\n",
              "<table border=\"1\" class=\"dataframe\">\n",
              "  <thead>\n",
              "    <tr style=\"text-align: right;\">\n",
              "      <th></th>\n",
              "      <th>age_17</th>\n",
              "      <th>age_18</th>\n",
              "      <th>age_19</th>\n",
              "      <th>age_20</th>\n",
              "      <th>age_21</th>\n",
              "      <th>age_22</th>\n",
              "      <th>age_23</th>\n",
              "      <th>age_24</th>\n",
              "      <th>age_25</th>\n",
              "      <th>age_26</th>\n",
              "      <th>...</th>\n",
              "      <th>default_no</th>\n",
              "      <th>default_unknown</th>\n",
              "      <th>default_yes</th>\n",
              "      <th>housing_no</th>\n",
              "      <th>housing_unknown</th>\n",
              "      <th>housing_yes</th>\n",
              "      <th>loan_no</th>\n",
              "      <th>loan_unknown</th>\n",
              "      <th>loan_yes</th>\n",
              "      <th>y</th>\n",
              "    </tr>\n",
              "  </thead>\n",
              "  <tbody>\n",
              "    <tr>\n",
              "      <th>19511</th>\n",
              "      <td>0.0</td>\n",
              "      <td>0.0</td>\n",
              "      <td>0.0</td>\n",
              "      <td>0.0</td>\n",
              "      <td>0.0</td>\n",
              "      <td>0.0</td>\n",
              "      <td>0.0</td>\n",
              "      <td>0.0</td>\n",
              "      <td>0.0</td>\n",
              "      <td>0.0</td>\n",
              "      <td>...</td>\n",
              "      <td>0.0</td>\n",
              "      <td>1.0</td>\n",
              "      <td>0.0</td>\n",
              "      <td>0.0</td>\n",
              "      <td>0.0</td>\n",
              "      <td>1.0</td>\n",
              "      <td>0.0</td>\n",
              "      <td>0.0</td>\n",
              "      <td>1.0</td>\n",
              "      <td>0</td>\n",
              "    </tr>\n",
              "    <tr>\n",
              "      <th>37747</th>\n",
              "      <td>0.0</td>\n",
              "      <td>0.0</td>\n",
              "      <td>0.0</td>\n",
              "      <td>0.0</td>\n",
              "      <td>0.0</td>\n",
              "      <td>0.0</td>\n",
              "      <td>0.0</td>\n",
              "      <td>1.0</td>\n",
              "      <td>0.0</td>\n",
              "      <td>0.0</td>\n",
              "      <td>...</td>\n",
              "      <td>1.0</td>\n",
              "      <td>0.0</td>\n",
              "      <td>0.0</td>\n",
              "      <td>0.0</td>\n",
              "      <td>0.0</td>\n",
              "      <td>1.0</td>\n",
              "      <td>1.0</td>\n",
              "      <td>0.0</td>\n",
              "      <td>0.0</td>\n",
              "      <td>0</td>\n",
              "    </tr>\n",
              "    <tr>\n",
              "      <th>35303</th>\n",
              "      <td>0.0</td>\n",
              "      <td>0.0</td>\n",
              "      <td>0.0</td>\n",
              "      <td>0.0</td>\n",
              "      <td>0.0</td>\n",
              "      <td>0.0</td>\n",
              "      <td>0.0</td>\n",
              "      <td>0.0</td>\n",
              "      <td>0.0</td>\n",
              "      <td>0.0</td>\n",
              "      <td>...</td>\n",
              "      <td>1.0</td>\n",
              "      <td>0.0</td>\n",
              "      <td>0.0</td>\n",
              "      <td>1.0</td>\n",
              "      <td>0.0</td>\n",
              "      <td>0.0</td>\n",
              "      <td>1.0</td>\n",
              "      <td>0.0</td>\n",
              "      <td>0.0</td>\n",
              "      <td>0</td>\n",
              "    </tr>\n",
              "    <tr>\n",
              "      <th>13221</th>\n",
              "      <td>0.0</td>\n",
              "      <td>0.0</td>\n",
              "      <td>0.0</td>\n",
              "      <td>0.0</td>\n",
              "      <td>0.0</td>\n",
              "      <td>0.0</td>\n",
              "      <td>0.0</td>\n",
              "      <td>1.0</td>\n",
              "      <td>0.0</td>\n",
              "      <td>0.0</td>\n",
              "      <td>...</td>\n",
              "      <td>1.0</td>\n",
              "      <td>0.0</td>\n",
              "      <td>0.0</td>\n",
              "      <td>1.0</td>\n",
              "      <td>0.0</td>\n",
              "      <td>0.0</td>\n",
              "      <td>1.0</td>\n",
              "      <td>0.0</td>\n",
              "      <td>0.0</td>\n",
              "      <td>0</td>\n",
              "    </tr>\n",
              "    <tr>\n",
              "      <th>30949</th>\n",
              "      <td>0.0</td>\n",
              "      <td>0.0</td>\n",
              "      <td>0.0</td>\n",
              "      <td>0.0</td>\n",
              "      <td>0.0</td>\n",
              "      <td>0.0</td>\n",
              "      <td>0.0</td>\n",
              "      <td>0.0</td>\n",
              "      <td>0.0</td>\n",
              "      <td>0.0</td>\n",
              "      <td>...</td>\n",
              "      <td>1.0</td>\n",
              "      <td>0.0</td>\n",
              "      <td>0.0</td>\n",
              "      <td>0.0</td>\n",
              "      <td>0.0</td>\n",
              "      <td>1.0</td>\n",
              "      <td>1.0</td>\n",
              "      <td>0.0</td>\n",
              "      <td>0.0</td>\n",
              "      <td>0</td>\n",
              "    </tr>\n",
              "  </tbody>\n",
              "</table>\n",
              "<p>5 rows × 112 columns</p>\n",
              "</div>\n",
              "    <div class=\"colab-df-buttons\">\n",
              "\n",
              "  <div class=\"colab-df-container\">\n",
              "    <button class=\"colab-df-convert\" onclick=\"convertToInteractive('df-dd74e489-62e9-4851-992d-15faddfe5301')\"\n",
              "            title=\"Convert this dataframe to an interactive table.\"\n",
              "            style=\"display:none;\">\n",
              "\n",
              "  <svg xmlns=\"http://www.w3.org/2000/svg\" height=\"24px\" viewBox=\"0 -960 960 960\">\n",
              "    <path d=\"M120-120v-720h720v720H120Zm60-500h600v-160H180v160Zm220 220h160v-160H400v160Zm0 220h160v-160H400v160ZM180-400h160v-160H180v160Zm440 0h160v-160H620v160ZM180-180h160v-160H180v160Zm440 0h160v-160H620v160Z\"/>\n",
              "  </svg>\n",
              "    </button>\n",
              "\n",
              "  <style>\n",
              "    .colab-df-container {\n",
              "      display:flex;\n",
              "      gap: 12px;\n",
              "    }\n",
              "\n",
              "    .colab-df-convert {\n",
              "      background-color: #E8F0FE;\n",
              "      border: none;\n",
              "      border-radius: 50%;\n",
              "      cursor: pointer;\n",
              "      display: none;\n",
              "      fill: #1967D2;\n",
              "      height: 32px;\n",
              "      padding: 0 0 0 0;\n",
              "      width: 32px;\n",
              "    }\n",
              "\n",
              "    .colab-df-convert:hover {\n",
              "      background-color: #E2EBFA;\n",
              "      box-shadow: 0px 1px 2px rgba(60, 64, 67, 0.3), 0px 1px 3px 1px rgba(60, 64, 67, 0.15);\n",
              "      fill: #174EA6;\n",
              "    }\n",
              "\n",
              "    .colab-df-buttons div {\n",
              "      margin-bottom: 4px;\n",
              "    }\n",
              "\n",
              "    [theme=dark] .colab-df-convert {\n",
              "      background-color: #3B4455;\n",
              "      fill: #D2E3FC;\n",
              "    }\n",
              "\n",
              "    [theme=dark] .colab-df-convert:hover {\n",
              "      background-color: #434B5C;\n",
              "      box-shadow: 0px 1px 3px 1px rgba(0, 0, 0, 0.15);\n",
              "      filter: drop-shadow(0px 1px 2px rgba(0, 0, 0, 0.3));\n",
              "      fill: #FFFFFF;\n",
              "    }\n",
              "  </style>\n",
              "\n",
              "    <script>\n",
              "      const buttonEl =\n",
              "        document.querySelector('#df-dd74e489-62e9-4851-992d-15faddfe5301 button.colab-df-convert');\n",
              "      buttonEl.style.display =\n",
              "        google.colab.kernel.accessAllowed ? 'block' : 'none';\n",
              "\n",
              "      async function convertToInteractive(key) {\n",
              "        const element = document.querySelector('#df-dd74e489-62e9-4851-992d-15faddfe5301');\n",
              "        const dataTable =\n",
              "          await google.colab.kernel.invokeFunction('convertToInteractive',\n",
              "                                                    [key], {});\n",
              "        if (!dataTable) return;\n",
              "\n",
              "        const docLinkHtml = 'Like what you see? Visit the ' +\n",
              "          '<a target=\"_blank\" href=https://colab.research.google.com/notebooks/data_table.ipynb>data table notebook</a>'\n",
              "          + ' to learn more about interactive tables.';\n",
              "        element.innerHTML = '';\n",
              "        dataTable['output_type'] = 'display_data';\n",
              "        await google.colab.output.renderOutput(dataTable, element);\n",
              "        const docLink = document.createElement('div');\n",
              "        docLink.innerHTML = docLinkHtml;\n",
              "        element.appendChild(docLink);\n",
              "      }\n",
              "    </script>\n",
              "  </div>\n",
              "\n",
              "\n",
              "<div id=\"df-8a4fa1a3-1ee9-4753-8a47-ecdd518a9b87\">\n",
              "  <button class=\"colab-df-quickchart\" onclick=\"quickchart('df-8a4fa1a3-1ee9-4753-8a47-ecdd518a9b87')\"\n",
              "            title=\"Suggest charts\"\n",
              "            style=\"display:none;\">\n",
              "\n",
              "<svg xmlns=\"http://www.w3.org/2000/svg\" height=\"24px\"viewBox=\"0 0 24 24\"\n",
              "     width=\"24px\">\n",
              "    <g>\n",
              "        <path d=\"M19 3H5c-1.1 0-2 .9-2 2v14c0 1.1.9 2 2 2h14c1.1 0 2-.9 2-2V5c0-1.1-.9-2-2-2zM9 17H7v-7h2v7zm4 0h-2V7h2v10zm4 0h-2v-4h2v4z\"/>\n",
              "    </g>\n",
              "</svg>\n",
              "  </button>\n",
              "\n",
              "<style>\n",
              "  .colab-df-quickchart {\n",
              "      --bg-color: #E8F0FE;\n",
              "      --fill-color: #1967D2;\n",
              "      --hover-bg-color: #E2EBFA;\n",
              "      --hover-fill-color: #174EA6;\n",
              "      --disabled-fill-color: #AAA;\n",
              "      --disabled-bg-color: #DDD;\n",
              "  }\n",
              "\n",
              "  [theme=dark] .colab-df-quickchart {\n",
              "      --bg-color: #3B4455;\n",
              "      --fill-color: #D2E3FC;\n",
              "      --hover-bg-color: #434B5C;\n",
              "      --hover-fill-color: #FFFFFF;\n",
              "      --disabled-bg-color: #3B4455;\n",
              "      --disabled-fill-color: #666;\n",
              "  }\n",
              "\n",
              "  .colab-df-quickchart {\n",
              "    background-color: var(--bg-color);\n",
              "    border: none;\n",
              "    border-radius: 50%;\n",
              "    cursor: pointer;\n",
              "    display: none;\n",
              "    fill: var(--fill-color);\n",
              "    height: 32px;\n",
              "    padding: 0;\n",
              "    width: 32px;\n",
              "  }\n",
              "\n",
              "  .colab-df-quickchart:hover {\n",
              "    background-color: var(--hover-bg-color);\n",
              "    box-shadow: 0 1px 2px rgba(60, 64, 67, 0.3), 0 1px 3px 1px rgba(60, 64, 67, 0.15);\n",
              "    fill: var(--button-hover-fill-color);\n",
              "  }\n",
              "\n",
              "  .colab-df-quickchart-complete:disabled,\n",
              "  .colab-df-quickchart-complete:disabled:hover {\n",
              "    background-color: var(--disabled-bg-color);\n",
              "    fill: var(--disabled-fill-color);\n",
              "    box-shadow: none;\n",
              "  }\n",
              "\n",
              "  .colab-df-spinner {\n",
              "    border: 2px solid var(--fill-color);\n",
              "    border-color: transparent;\n",
              "    border-bottom-color: var(--fill-color);\n",
              "    animation:\n",
              "      spin 1s steps(1) infinite;\n",
              "  }\n",
              "\n",
              "  @keyframes spin {\n",
              "    0% {\n",
              "      border-color: transparent;\n",
              "      border-bottom-color: var(--fill-color);\n",
              "      border-left-color: var(--fill-color);\n",
              "    }\n",
              "    20% {\n",
              "      border-color: transparent;\n",
              "      border-left-color: var(--fill-color);\n",
              "      border-top-color: var(--fill-color);\n",
              "    }\n",
              "    30% {\n",
              "      border-color: transparent;\n",
              "      border-left-color: var(--fill-color);\n",
              "      border-top-color: var(--fill-color);\n",
              "      border-right-color: var(--fill-color);\n",
              "    }\n",
              "    40% {\n",
              "      border-color: transparent;\n",
              "      border-right-color: var(--fill-color);\n",
              "      border-top-color: var(--fill-color);\n",
              "    }\n",
              "    60% {\n",
              "      border-color: transparent;\n",
              "      border-right-color: var(--fill-color);\n",
              "    }\n",
              "    80% {\n",
              "      border-color: transparent;\n",
              "      border-right-color: var(--fill-color);\n",
              "      border-bottom-color: var(--fill-color);\n",
              "    }\n",
              "    90% {\n",
              "      border-color: transparent;\n",
              "      border-bottom-color: var(--fill-color);\n",
              "    }\n",
              "  }\n",
              "</style>\n",
              "\n",
              "  <script>\n",
              "    async function quickchart(key) {\n",
              "      const quickchartButtonEl =\n",
              "        document.querySelector('#' + key + ' button');\n",
              "      quickchartButtonEl.disabled = true;  // To prevent multiple clicks.\n",
              "      quickchartButtonEl.classList.add('colab-df-spinner');\n",
              "      try {\n",
              "        const charts = await google.colab.kernel.invokeFunction(\n",
              "            'suggestCharts', [key], {});\n",
              "      } catch (error) {\n",
              "        console.error('Error during call to suggestCharts:', error);\n",
              "      }\n",
              "      quickchartButtonEl.classList.remove('colab-df-spinner');\n",
              "      quickchartButtonEl.classList.add('colab-df-quickchart-complete');\n",
              "    }\n",
              "    (() => {\n",
              "      let quickchartButtonEl =\n",
              "        document.querySelector('#df-8a4fa1a3-1ee9-4753-8a47-ecdd518a9b87 button');\n",
              "      quickchartButtonEl.style.display =\n",
              "        google.colab.kernel.accessAllowed ? 'block' : 'none';\n",
              "    })();\n",
              "  </script>\n",
              "</div>\n",
              "\n",
              "    </div>\n",
              "  </div>\n"
            ],
            "application/vnd.google.colaboratory.intrinsic+json": {
              "type": "dataframe"
            }
          },
          "metadata": {},
          "execution_count": 109
        }
      ],
      "source": [
        "# encode them using OneHotEncoding because there is no ordinal relationship in data categories and drop original\n",
        "ohe = OneHotEncoder()\n",
        "\n",
        "#fit and transform the data\n",
        "features_encoded = ohe.fit_transform(df[features_bank_info])\n",
        "\n",
        "# Create dataframe with encoded data\n",
        "df_encoded = pd.DataFrame(features_encoded.toarray(), columns = ohe.get_feature_names_out(features_bank_info))\n",
        "\n",
        "# Ensure correct column names and shape\n",
        "print(\"Shape of df_encoded:\", df_encoded.shape)\n",
        "print(\"Columns of df_encoded:\", df_encoded.columns)\n",
        "\n",
        "\n",
        "# add target column to it\n",
        "df_encoded['y'] = df['y'].map({\"yes\":1,\"no\":0}) # df['y'].apply(lambda x : 1 if x=\"yes\" else 0) # df['y'].str.contains(\"yes\").astype(int)\n",
        "\n",
        "df_encoded.sample(5)\n"
      ]
    },
    {
      "cell_type": "code",
      "execution_count": 110,
      "metadata": {
        "colab": {
          "base_uri": "https://localhost:8080/"
        },
        "id": "hrFBXOlQU9LI",
        "outputId": "cea5409e-e292-40ce-e893-2ea48268f5f4"
      },
      "outputs": [
        {
          "output_type": "execute_result",
          "data": {
            "text/plain": [
              "0    88.734583\n",
              "1    11.265417\n",
              "Name: y, dtype: float64"
            ]
          },
          "metadata": {},
          "execution_count": 110
        }
      ],
      "source": [
        "df_encoded['y'].value_counts(normalize=True)*100"
      ]
    },
    {
      "cell_type": "markdown",
      "metadata": {
        "id": "YgFlsY1oczM6"
      },
      "source": [
        "Outcome is biased as 88% of sampled population did not subscribed to long term deposit from campaign"
      ]
    },
    {
      "cell_type": "markdown",
      "metadata": {
        "id": "spBP-hrFU9LI"
      },
      "source": [
        "### Problem 6: Train/Test Split\n",
        "\n",
        "With your data prepared, split it into a train and test set."
      ]
    },
    {
      "cell_type": "code",
      "execution_count": 111,
      "metadata": {
        "colab": {
          "base_uri": "https://localhost:8080/"
        },
        "id": "_JSwRRa-U9LI",
        "outputId": "41f0dbab-3a83-487a-8054-c5252b1f5c1d"
      },
      "outputs": [
        {
          "output_type": "stream",
          "name": "stdout",
          "text": [
            "Number of rows are 41188 and columns are 111 in features\n",
            "Number of rows are 41188 and columns is 1 in target\n"
          ]
        }
      ],
      "source": [
        "X = df_encoded.drop('y', axis=1) # features\n",
        "y = df_encoded['y'] # target\n",
        "\n",
        "print(f\"Number of rows are {X.shape[0]} and columns are {X.shape[1]} in features\")\n",
        "print(f\"Number of rows are {y.shape[0]} and columns is 1 in target\")"
      ]
    },
    {
      "cell_type": "code",
      "execution_count": 112,
      "metadata": {
        "colab": {
          "base_uri": "https://localhost:8080/"
        },
        "id": "j1Dg5DPEU9LI",
        "outputId": "e5a8e43c-f47c-4a7c-b60c-61d23042a186"
      },
      "outputs": [
        {
          "output_type": "stream",
          "name": "stdout",
          "text": [
            "30% of data is kept as test data\n",
            "Training data X and y has rows and columns (30891, 111) and (30891,)\n",
            "Test data X and y has rows and columns (10297, 111) and (10297,)\n"
          ]
        }
      ],
      "source": [
        "X_train,X_test, y_train,y_test = train_test_split(X,y,test_size=0.25,random_state=42, stratify= y, shuffle=True)\n",
        "print(\"30% of data is kept as test data\")\n",
        "print(f\"Training data X and y has rows and columns {X_train.shape} and {y_train.shape}\")\n",
        "print(f\"Test data X and y has rows and columns {X_test.shape} and {y_test.shape}\")"
      ]
    },
    {
      "cell_type": "markdown",
      "metadata": {
        "id": "7lgxleD_U9LI"
      },
      "source": [
        "### Problem 7: A Baseline Model\n",
        "\n",
        "Before we build our first model, we want to establish a baseline.  What is the baseline performance that our classifier should aim to beat?"
      ]
    },
    {
      "cell_type": "code",
      "execution_count": 14,
      "metadata": {
        "colab": {
          "base_uri": "https://localhost:8080/"
        },
        "id": "yME3Bbp3U9LI",
        "outputId": "fd0b0db7-c726-4051-88f8-aed0f15a434a"
      },
      "outputs": [
        {
          "output_type": "stream",
          "name": "stdout",
          "text": [
            "baseline performance that our classifier should aim to beat is 88.735 % \n"
          ]
        }
      ],
      "source": [
        "# Calculate the frequency of each class\n",
        "class_counts = df_encoded['y'].value_counts()\n",
        "\n",
        "# most frequent class is\n",
        "majority_class = class_counts.idxmax () # return row label of maximum value\n",
        "\n",
        "# baseline accuracy is\n",
        "baseline_accuracy = round(class_counts[majority_class] / len(df['y']),5)*100\n",
        "\n",
        "print(f\"baseline performance that our classifier should aim to beat is {baseline_accuracy} % \")"
      ]
    },
    {
      "cell_type": "markdown",
      "metadata": {
        "id": "kBbDKAb3U9LJ"
      },
      "source": [
        "### Problem 8: A Simple Model\n",
        "\n",
        "Use Logistic Regression to build a basic model on your data.  "
      ]
    },
    {
      "cell_type": "code",
      "execution_count": null,
      "metadata": {
        "colab": {
          "base_uri": "https://localhost:8080/"
        },
        "id": "Sacz3knbU9LJ",
        "outputId": "48cdac1b-12fd-460e-e852-442b4de8fb14"
      },
      "outputs": [
        {
          "data": {
            "text/plain": [
              "array([0, 0, 0, ..., 0, 0, 0])"
            ]
          },
          "execution_count": 17,
          "metadata": {},
          "output_type": "execute_result"
        }
      ],
      "source": [
        "# Instantiate Logistic Regression\n",
        "lr = LogisticRegression(max_iter=5000)\n",
        "\n",
        "# Fit the model to training data\n",
        "lr.fit(X_train,y_train)\n",
        "\n",
        "# predict the data\n",
        "y_pred_lr = lr.predict(X_test)\n",
        "\n",
        "y_pred_lr"
      ]
    },
    {
      "cell_type": "markdown",
      "metadata": {
        "id": "1qhHXV3fU9LJ"
      },
      "source": [
        "### Problem 9: Score the Model\n",
        "\n",
        "What is the accuracy of your model?"
      ]
    },
    {
      "cell_type": "code",
      "execution_count": null,
      "metadata": {
        "colab": {
          "base_uri": "https://localhost:8080/"
        },
        "id": "QgTKVmdyU9LJ",
        "outputId": "00f21155-2527-4a14-8aab-3ae0d4593d8c"
      },
      "outputs": [
        {
          "name": "stdout",
          "output_type": "stream",
          "text": [
            " Accuracy of Logistic Regression model is 88.628%\n",
            " Precision of Logistic Regression model is 38.298%\n",
            " Recall of Logistic Regression model is 1.552%\n"
          ]
        }
      ],
      "source": [
        "lr_accuracy = accuracy_score(y_test,y_pred_lr)\n",
        "lr_precision = precision_score(y_test,y_pred_lr)\n",
        "lr_recall = recall_score(y_test,y_pred_lr)\n",
        "print(f\" Accuracy of Logistic Regression model is {lr_accuracy:.3%}\")\n",
        "print(f\" Precision of Logistic Regression model is {lr_precision:.3%}\")\n",
        "print(f\" Recall of Logistic Regression model is {lr_recall:.3%}\")"
      ]
    },
    {
      "cell_type": "markdown",
      "metadata": {
        "id": "PBohirb9HLNv"
      },
      "source": [
        "### Model Evaluation Metrics\n",
        "\n",
        "Besides accuracy, consider using other evaluation metrics such as precision, recall, F1-score, and confusion matrix. These metrics provide a more comprehensive understanding of the model's performance, especially in the case of imbalanced datasets."
      ]
    },
    {
      "cell_type": "code",
      "execution_count": null,
      "metadata": {
        "colab": {
          "base_uri": "https://localhost:8080/",
          "height": 466
        },
        "id": "E9L01I0IRFNQ",
        "outputId": "9db83e69-17d8-4c8f-b083-da547aaf4cec"
      },
      "outputs": [
        {
          "data": {
            "text/plain": [
              "<sklearn.metrics._plot.confusion_matrix.ConfusionMatrixDisplay at 0x7b12171222f0>"
            ]
          },
          "execution_count": 19,
          "metadata": {},
          "output_type": "execute_result"
        },
        {
          "data": {
            "image/png": "[encoded data removed]",
            "text/plain": [
              "<Figure size 640x480 with 2 Axes>"
            ]
          },
          "metadata": {},
          "output_type": "display_data"
        }
      ],
      "source": [
        "# Confusion Matrix , #We want to understanding the overall accuracy and error rates across all classes, \"all\" normalization is suitable.\n",
        "y_true = [\"No Subscription\" if label== 0 else \"Yes Subscription\" for label in y_test]\n",
        "y_pred = [\"No Subscription\" if label== 0 else \"Yes Subscription\" for label in y_pred_lr]\n",
        "\n",
        "ConfusionMatrixDisplay.from_predictions(y_true,y_pred, normalize=\"all\")"
      ]
    },
    {
      "cell_type": "code",
      "execution_count": null,
      "metadata": {
        "colab": {
          "base_uri": "https://localhost:8080/"
        },
        "id": "TTZfB_pflL3L",
        "outputId": "8dd98d46-d753-4cbf-d871-93175c5fdbee"
      },
      "outputs": [
        {
          "name": "stdout",
          "output_type": "stream",
          "text": [
            "Model Accuracy Score: 0.8868602505584151\n"
          ]
        }
      ],
      "source": [
        "svc = SVC(probability=True)\n",
        "# fit the model\n",
        "svc.fit(X_train,y_train)\n",
        "\n",
        "# Calculate the model accuracy score on the test data\n",
        "accuracy = svc.score(X_test, y_test)\n",
        "print(\"Model Accuracy Score:\", accuracy)\n",
        "\n",
        "# predict values\n",
        "y_pred_svc = svc.predict(X_test)\n",
        "\n",
        "# find probability of positive class using indexing [:, 1]\n",
        "y_pred_proba = svc.predict_proba(X_test)[:,1]"
      ]
    },
    {
      "cell_type": "code",
      "execution_count": null,
      "metadata": {
        "colab": {
          "base_uri": "https://localhost:8080/",
          "height": 466
        },
        "id": "jl91-9aQtMl4",
        "outputId": "c09d7e6e-27d4-49ac-bcd5-4209405a8a31"
      },
      "outputs": [
        {
          "data": {
            "text/plain": [
              "<sklearn.metrics._plot.confusion_matrix.ConfusionMatrixDisplay at 0x7f8af05d6170>"
            ]
          },
          "execution_count": 120,
          "metadata": {},
          "output_type": "execute_result"
        },
        {
          "data": {
            "image/png": "[encoded data removed]",
            "text/plain": [
              "<Figure size 640x480 with 2 Axes>"
            ]
          },
          "metadata": {},
          "output_type": "display_data"
        }
      ],
      "source": [
        "ConfusionMatrixDisplay.from_predictions(y_test,y_pred_svc)"
      ]
    },
    {
      "cell_type": "markdown",
      "metadata": {
        "id": "fh6-G1jcU9LK"
      },
      "source": [
        "### Problem 10: Model Comparisons\n",
        "\n",
        "Now, we aim to compare the performance of the Logistic Regression model to our KNN algorithm, Decision Tree, and SVM models.  Using the default settings for each of the models, fit and score each.  Also, be sure to compare the fit time of each of the models.  Present your findings in a `DataFrame` similar to that below:\n",
        "\n",
        "| Model | Train Time | Train Accuracy | Test Accuracy |\n",
        "| ----- | ---------- | -------------  | -----------   |\n",
        "|     |    |.     |.     |"
      ]
    },
    {
      "cell_type": "code",
      "execution_count": null,
      "metadata": {
        "colab": {
          "base_uri": "https://localhost:8080/",
          "height": 1000
        },
        "id": "4RJIC62pG0em",
        "outputId": "6cd9591a-f579-4626-e0b7-eac157c99038"
      },
      "outputs": [
        {
          "name": "stderr",
          "output_type": "stream",
          "text": [
            "/usr/local/lib/python3.10/dist-packages/sklearn/linear_model/_logistic.py:458: ConvergenceWarning: lbfgs failed to converge (status=1):\n",
            "STOP: TOTAL NO. of ITERATIONS REACHED LIMIT.\n",
            "\n",
            "Increase the number of iterations (max_iter) or scale the data as shown in:\n",
            "    https://scikit-learn.org/stable/modules/preprocessing.html\n",
            "Please also refer to the documentation for alternative solver options:\n",
            "    https://scikit-learn.org/stable/modules/linear_model.html#logistic-regression\n",
            "  n_iter_i = _check_optimize_result(\n"
          ]
        },
        {
          "data": {
            "image/png": "[encoded data removed]",
            "text/plain": [
              "<Figure size 800x600 with 1 Axes>"
            ]
          },
          "metadata": {},
          "output_type": "display_data"
        },
        {
          "ename": "ValueError",
          "evalue": "All arrays must be of the same length",
          "output_type": "error",
          "traceback": [
            "\u001b[0;31m---------------------------------------------------------------------------\u001b[0m",
            "\u001b[0;31mValueError\u001b[0m                                Traceback (most recent call last)",
            "\u001b[0;32m<ipython-input-36-90ea927584c6>\u001b[0m in \u001b[0;36m<cell line: 60>\u001b[0;34m()\u001b[0m\n\u001b[1;32m     58\u001b[0m \u001b[0mplt\u001b[0m\u001b[0;34m.\u001b[0m\u001b[0mshow\u001b[0m\u001b[0;34m(\u001b[0m\u001b[0;34m)\u001b[0m\u001b[0;34m\u001b[0m\u001b[0;34m\u001b[0m\u001b[0m\n\u001b[1;32m     59\u001b[0m \u001b[0;34m\u001b[0m\u001b[0m\n\u001b[0;32m---> 60\u001b[0;31m \u001b[0mresults_df\u001b[0m \u001b[0;34m=\u001b[0m \u001b[0mpd\u001b[0m\u001b[0;34m.\u001b[0m\u001b[0mDataFrame\u001b[0m\u001b[0;34m(\u001b[0m\u001b[0mresults\u001b[0m\u001b[0;34m)\u001b[0m\u001b[0;34m\u001b[0m\u001b[0;34m\u001b[0m\u001b[0m\n\u001b[0m",
            "\u001b[0;32m/usr/local/lib/python3.10/dist-packages/pandas/core/frame.py\u001b[0m in \u001b[0;36m__init__\u001b[0;34m(self, data, index, columns, dtype, copy)\u001b[0m\n\u001b[1;32m    662\u001b[0m         \u001b[0;32melif\u001b[0m \u001b[0misinstance\u001b[0m\u001b[0;34m(\u001b[0m\u001b[0mdata\u001b[0m\u001b[0;34m,\u001b[0m \u001b[0mdict\u001b[0m\u001b[0;34m)\u001b[0m\u001b[0;34m:\u001b[0m\u001b[0;34m\u001b[0m\u001b[0;34m\u001b[0m\u001b[0m\n\u001b[1;32m    663\u001b[0m             \u001b[0;31m# GH#38939 de facto copy defaults to False only in non-dict cases\u001b[0m\u001b[0;34m\u001b[0m\u001b[0;34m\u001b[0m\u001b[0m\n\u001b[0;32m--> 664\u001b[0;31m             \u001b[0mmgr\u001b[0m \u001b[0;34m=\u001b[0m \u001b[0mdict_to_mgr\u001b[0m\u001b[0;34m(\u001b[0m\u001b[0mdata\u001b[0m\u001b[0;34m,\u001b[0m \u001b[0mindex\u001b[0m\u001b[0;34m,\u001b[0m \u001b[0mcolumns\u001b[0m\u001b[0;34m,\u001b[0m \u001b[0mdtype\u001b[0m\u001b[0;34m=\u001b[0m\u001b[0mdtype\u001b[0m\u001b[0;34m,\u001b[0m \u001b[0mcopy\u001b[0m\u001b[0;34m=\u001b[0m\u001b[0mcopy\u001b[0m\u001b[0;34m,\u001b[0m \u001b[0mtyp\u001b[0m\u001b[0;34m=\u001b[0m\u001b[0mmanager\u001b[0m\u001b[0;34m)\u001b[0m\u001b[0;34m\u001b[0m\u001b[0;34m\u001b[0m\u001b[0m\n\u001b[0m\u001b[1;32m    665\u001b[0m         \u001b[0;32melif\u001b[0m \u001b[0misinstance\u001b[0m\u001b[0;34m(\u001b[0m\u001b[0mdata\u001b[0m\u001b[0;34m,\u001b[0m \u001b[0mma\u001b[0m\u001b[0;34m.\u001b[0m\u001b[0mMaskedArray\u001b[0m\u001b[0;34m)\u001b[0m\u001b[0;34m:\u001b[0m\u001b[0;34m\u001b[0m\u001b[0;34m\u001b[0m\u001b[0m\n\u001b[1;32m    666\u001b[0m             \u001b[0;32mimport\u001b[0m \u001b[0mnumpy\u001b[0m\u001b[0;34m.\u001b[0m\u001b[0mma\u001b[0m\u001b[0;34m.\u001b[0m\u001b[0mmrecords\u001b[0m \u001b[0;32mas\u001b[0m \u001b[0mmrecords\u001b[0m\u001b[0;34m\u001b[0m\u001b[0;34m\u001b[0m\u001b[0m\n",
            "\u001b[0;32m/usr/local/lib/python3.10/dist-packages/pandas/core/internals/construction.py\u001b[0m in \u001b[0;36mdict_to_mgr\u001b[0;34m(data, index, columns, dtype, typ, copy)\u001b[0m\n\u001b[1;32m    491\u001b[0m             \u001b[0marrays\u001b[0m \u001b[0;34m=\u001b[0m \u001b[0;34m[\u001b[0m\u001b[0mx\u001b[0m\u001b[0;34m.\u001b[0m\u001b[0mcopy\u001b[0m\u001b[0;34m(\u001b[0m\u001b[0;34m)\u001b[0m \u001b[0;32mif\u001b[0m \u001b[0mhasattr\u001b[0m\u001b[0;34m(\u001b[0m\u001b[0mx\u001b[0m\u001b[0;34m,\u001b[0m \u001b[0;34m\"dtype\"\u001b[0m\u001b[0;34m)\u001b[0m \u001b[0;32melse\u001b[0m \u001b[0mx\u001b[0m \u001b[0;32mfor\u001b[0m \u001b[0mx\u001b[0m \u001b[0;32min\u001b[0m \u001b[0marrays\u001b[0m\u001b[0;34m]\u001b[0m\u001b[0;34m\u001b[0m\u001b[0;34m\u001b[0m\u001b[0m\n\u001b[1;32m    492\u001b[0m \u001b[0;34m\u001b[0m\u001b[0m\n\u001b[0;32m--> 493\u001b[0;31m     \u001b[0;32mreturn\u001b[0m \u001b[0marrays_to_mgr\u001b[0m\u001b[0;34m(\u001b[0m\u001b[0marrays\u001b[0m\u001b[0;34m,\u001b[0m \u001b[0mcolumns\u001b[0m\u001b[0;34m,\u001b[0m \u001b[0mindex\u001b[0m\u001b[0;34m,\u001b[0m \u001b[0mdtype\u001b[0m\u001b[0;34m=\u001b[0m\u001b[0mdtype\u001b[0m\u001b[0;34m,\u001b[0m \u001b[0mtyp\u001b[0m\u001b[0;34m=\u001b[0m\u001b[0mtyp\u001b[0m\u001b[0;34m,\u001b[0m \u001b[0mconsolidate\u001b[0m\u001b[0;34m=\u001b[0m\u001b[0mcopy\u001b[0m\u001b[0;34m)\u001b[0m\u001b[0;34m\u001b[0m\u001b[0;34m\u001b[0m\u001b[0m\n\u001b[0m\u001b[1;32m    494\u001b[0m \u001b[0;34m\u001b[0m\u001b[0m\n\u001b[1;32m    495\u001b[0m \u001b[0;34m\u001b[0m\u001b[0m\n",
            "\u001b[0;32m/usr/local/lib/python3.10/dist-packages/pandas/core/internals/construction.py\u001b[0m in \u001b[0;36marrays_to_mgr\u001b[0;34m(arrays, columns, index, dtype, verify_integrity, typ, consolidate)\u001b[0m\n\u001b[1;32m    116\u001b[0m         \u001b[0;31m# figure out the index, if necessary\u001b[0m\u001b[0;34m\u001b[0m\u001b[0;34m\u001b[0m\u001b[0m\n\u001b[1;32m    117\u001b[0m         \u001b[0;32mif\u001b[0m \u001b[0mindex\u001b[0m \u001b[0;32mis\u001b[0m \u001b[0;32mNone\u001b[0m\u001b[0;34m:\u001b[0m\u001b[0;34m\u001b[0m\u001b[0;34m\u001b[0m\u001b[0m\n\u001b[0;32m--> 118\u001b[0;31m             \u001b[0mindex\u001b[0m \u001b[0;34m=\u001b[0m \u001b[0m_extract_index\u001b[0m\u001b[0;34m(\u001b[0m\u001b[0marrays\u001b[0m\u001b[0;34m)\u001b[0m\u001b[0;34m\u001b[0m\u001b[0;34m\u001b[0m\u001b[0m\n\u001b[0m\u001b[1;32m    119\u001b[0m         \u001b[0;32melse\u001b[0m\u001b[0;34m:\u001b[0m\u001b[0;34m\u001b[0m\u001b[0;34m\u001b[0m\u001b[0m\n\u001b[1;32m    120\u001b[0m             \u001b[0mindex\u001b[0m \u001b[0;34m=\u001b[0m \u001b[0mensure_index\u001b[0m\u001b[0;34m(\u001b[0m\u001b[0mindex\u001b[0m\u001b[0;34m)\u001b[0m\u001b[0;34m\u001b[0m\u001b[0;34m\u001b[0m\u001b[0m\n",
            "\u001b[0;32m/usr/local/lib/python3.10/dist-packages/pandas/core/internals/construction.py\u001b[0m in \u001b[0;36m_extract_index\u001b[0;34m(data)\u001b[0m\n\u001b[1;32m    664\u001b[0m             \u001b[0mlengths\u001b[0m \u001b[0;34m=\u001b[0m \u001b[0mlist\u001b[0m\u001b[0;34m(\u001b[0m\u001b[0mset\u001b[0m\u001b[0;34m(\u001b[0m\u001b[0mraw_lengths\u001b[0m\u001b[0;34m)\u001b[0m\u001b[0;34m)\u001b[0m\u001b[0;34m\u001b[0m\u001b[0;34m\u001b[0m\u001b[0m\n\u001b[1;32m    665\u001b[0m             \u001b[0;32mif\u001b[0m \u001b[0mlen\u001b[0m\u001b[0;34m(\u001b[0m\u001b[0mlengths\u001b[0m\u001b[0;34m)\u001b[0m \u001b[0;34m>\u001b[0m \u001b[0;36m1\u001b[0m\u001b[0;34m:\u001b[0m\u001b[0;34m\u001b[0m\u001b[0;34m\u001b[0m\u001b[0m\n\u001b[0;32m--> 666\u001b[0;31m                 \u001b[0;32mraise\u001b[0m \u001b[0mValueError\u001b[0m\u001b[0;34m(\u001b[0m\u001b[0;34m\"All arrays must be of the same length\"\u001b[0m\u001b[0;34m)\u001b[0m\u001b[0;34m\u001b[0m\u001b[0;34m\u001b[0m\u001b[0m\n\u001b[0m\u001b[1;32m    667\u001b[0m \u001b[0;34m\u001b[0m\u001b[0m\n\u001b[1;32m    668\u001b[0m             \u001b[0;32mif\u001b[0m \u001b[0mhave_dicts\u001b[0m\u001b[0;34m:\u001b[0m\u001b[0;34m\u001b[0m\u001b[0;34m\u001b[0m\u001b[0m\n",
            "\u001b[0;31mValueError\u001b[0m: All arrays must be of the same length"
          ]
        }
      ],
      "source": [
        "from sklearn.metrics import accuracy_score, precision_score, recall_score, f1_score, roc_auc_score\n",
        "from time import time\n",
        "\n",
        "classifiers = {\n",
        "    'lr': LogisticRegression(),\n",
        "    'knn': KNeighborsClassifier(),\n",
        "    'tree': DecisionTreeClassifier(),\n",
        "    'svc': SVC(probability=True)\n",
        "}\n",
        "\n",
        "results = {\"Model\": [],\"Train Time\":[],\"Train Accuracy\": [], \"Test Accuracy\": [],\n",
        "           \"Predict Probability\":[], \"Precision\": [], \"Recall\": [], \"F1-score\": [], \"ROC AUC Score\": []}\n",
        "\n",
        "plt.figure(figsize=(8, 6))\n",
        "\n",
        "for name, classifier in classifiers.items():\n",
        "    start_time = time()\n",
        "    classifier.fit(X_train, y_train)\n",
        "    end_time = time()\n",
        "\n",
        "    # Predict test data\n",
        "    y_train_pred = classifier.predict(X_train)\n",
        "    y_test_pred = classifier.predict(X_test)\n",
        "    y_test_proba = classifier.predict_proba(X_test)[:, 1]\n",
        "\n",
        "    # Model evaluations\n",
        "    train_accuracy = accuracy_score(y_train, y_train_pred)\n",
        "    test_accuracy = accuracy_score(y_test, y_test_pred)\n",
        "    fit_time = end_time - start_time\n",
        "    predict_probability = classifier.predict_proba(X_test)\n",
        "    test_precision = precision_score(y_test, y_test_pred)\n",
        "    test_recall = recall_score(y_test, y_test_pred)\n",
        "    test_f1_score = f1_score(y_test, y_test_pred)\n",
        "    roc_auc_value = roc_auc_score(y_test, y_test_proba)\n",
        "\n",
        "\n",
        "    results['Model'].append(classifier)\n",
        "    results['Train Time'].append(fit_time)\n",
        "    results['Train Accuracy'].append(train_accuracy)\n",
        "    results['Test Accuracy'].append(test_accuracy)\n",
        "    results['Precision'].append(test_precision)\n",
        "    results['Recall'].append(test_recall)\n",
        "    results['F1-score'].append(test_f1_score)\n",
        "    results['ROC AUC Score'].append(roc_auc_value)\n",
        "\n",
        "\n",
        "\n",
        "  # Plot ROC curve\n",
        "    fpr, tpr,_ = roc_curve(y_test, y_test_proba) #_ is showing threshold\n",
        "    plt.plot(fpr, tpr, label=f\"{name} (AUC score is {roc_auc_value:.2f})\")\n",
        "\n",
        "\n",
        "# Plot settings\n",
        "plt.plot([0, 1], [0, 1], linestyle='--', color='grey', label='Diagonal Line')\n",
        "plt.xlabel('False Positive Rate')\n",
        "plt.ylabel('True Positive Rate')\n",
        "plt.title('Receiver Operating Characteristic (ROC) Curve')\n",
        "plt.legend()\n",
        "plt.grid(True)\n",
        "plt.show()\n",
        "\n",
        "\n",
        "results_df = pd.DataFrame(results)"
      ]
    },
    {
      "cell_type": "code",
      "execution_count": null,
      "metadata": {
        "colab": {
          "base_uri": "https://localhost:8080/",
          "height": 175
        },
        "id": "rkhxMLxbS1aB",
        "outputId": "bd57d003-0c7f-4f1c-9296-4c63b2199701"
      },
      "outputs": [
        {
          "data": {
            "application/vnd.google.colaboratory.intrinsic+json": {
              "summary": "{\n  \"name\": \"results_df\",\n  \"rows\": 4,\n  \"fields\": [\n    {\n      \"column\": \"Model\",\n      \"properties\": {\n        \"dtype\": \"string\",\n        \"num_unique_values\": 4,\n        \"samples\": [\n          \"knn\",\n          \"svc\",\n          \"lr\"\n        ],\n        \"semantic_type\": \"\",\n        \"description\": \"\"\n      }\n    },\n    {\n      \"column\": \"Train Time\",\n      \"properties\": {\n        \"dtype\": \"number\",\n        \"std\": 468.22681554125273,\n        \"min\": 0.016399383544921875,\n        \"max\": 937.1428112983704,\n        \"num_unique_values\": 4,\n        \"samples\": [\n          0.016399383544921875,\n          937.1428112983704,\n          1.632045030593872\n        ],\n        \"semantic_type\": \"\",\n        \"description\": \"\"\n      }\n    },\n    {\n      \"column\": \"Train Accuracy\",\n      \"properties\": {\n        \"dtype\": \"number\",\n        \"std\": 0.014269223321897707,\n        \"min\": 0.8882522417532615,\n        \"max\": 0.9177754038393059,\n        \"num_unique_values\": 4,\n        \"samples\": [\n          0.8915218024667378,\n          0.8884141011945227,\n          0.8882522417532615\n        ],\n        \"semantic_type\": \"\",\n        \"description\": \"\"\n      }\n    },\n    {\n      \"column\": \"Test Accuracy\",\n      \"properties\": {\n        \"dtype\": \"number\",\n        \"std\": 0.009117155987473296,\n        \"min\": 0.8672428862775565,\n        \"max\": 0.8868602505584151,\n        \"num_unique_values\": 4,\n        \"samples\": [\n          0.8806448480139847,\n          0.8868602505584151,\n          0.8862775565698747\n        ],\n        \"semantic_type\": \"\",\n        \"description\": \"\"\n      }\n    },\n    {\n      \"column\": \"Predict Probability\",\n      \"properties\": {\n        \"dtype\": \"object\",\n        \"semantic_type\": \"\",\n        \"description\": \"\"\n      }\n    },\n    {\n      \"column\": \"Precision\",\n      \"properties\": {\n        \"dtype\": \"number\",\n        \"std\": 0.06056455657341009,\n        \"min\": 0.24189526184538654,\n        \"max\": 0.3829787234042553,\n        \"num_unique_values\": 4,\n        \"samples\": [\n          0.2982456140350877,\n          0.2727272727272727,\n          0.3829787234042553\n        ],\n        \"semantic_type\": \"\",\n        \"description\": \"\"\n      }\n    },\n    {\n      \"column\": \"Recall\",\n      \"properties\": {\n        \"dtype\": \"number\",\n        \"std\": 0.03590028219378423,\n        \"min\": 0.002586206896551724,\n        \"max\": 0.08362068965517241,\n        \"num_unique_values\": 4,\n        \"samples\": [\n          0.04396551724137931,\n          0.002586206896551724,\n          0.015517241379310345\n        ],\n        \"semantic_type\": \"\",\n        \"description\": \"\"\n      }\n    },\n    {\n      \"column\": \"F1-score\",\n      \"properties\": {\n        \"dtype\": \"number\",\n        \"std\": 0.0526817766535749,\n        \"min\": 0.005123825789923143,\n        \"max\": 0.1242793081358104,\n        \"num_unique_values\": 4,\n        \"samples\": [\n          0.07663410969196092,\n          0.005123825789923143,\n          0.02982601491300746\n        ],\n        \"semantic_type\": \"\",\n        \"description\": \"\"\n      }\n    },\n    {\n      \"column\": \"ROC AUC Score\",\n      \"properties\": {\n        \"dtype\": \"number\",\n        \"std\": 0.04277931626942865,\n        \"min\": 0.5785434270661539,\n        \"max\": 0.6654564804715952,\n        \"num_unique_values\": 4,\n        \"samples\": [\n          0.5785434270661539,\n          0.580638923588441,\n          0.6654564804715952\n        ],\n        \"semantic_type\": \"\",\n        \"description\": \"\"\n      }\n    }\n  ]\n}",
              "type": "dataframe",
              "variable_name": "results_df"
            },
            "text/html": [
              "\n",
              "  <div id=\"df-8dddec36-6c1c-4403-b745-347a90477d30\" class=\"colab-df-container\">\n",
              "    <div>\n",
              "<style scoped>\n",
              "    .dataframe tbody tr th:only-of-type {\n",
              "        vertical-align: middle;\n",
              "    }\n",
              "\n",
              "    .dataframe tbody tr th {\n",
              "        vertical-align: top;\n",
              "    }\n",
              "\n",
              "    .dataframe thead th {\n",
              "        text-align: right;\n",
              "    }\n",
              "</style>\n",
              "<table border=\"1\" class=\"dataframe\">\n",
              "  <thead>\n",
              "    <tr style=\"text-align: right;\">\n",
              "      <th></th>\n",
              "      <th>Model</th>\n",
              "      <th>Train Time</th>\n",
              "      <th>Train Accuracy</th>\n",
              "      <th>Test Accuracy</th>\n",
              "      <th>Predict Probability</th>\n",
              "      <th>Precision</th>\n",
              "      <th>Recall</th>\n",
              "      <th>F1-score</th>\n",
              "      <th>ROC AUC Score</th>\n",
              "    </tr>\n",
              "  </thead>\n",
              "  <tbody>\n",
              "    <tr>\n",
              "      <th>0</th>\n",
              "      <td>lr</td>\n",
              "      <td>1.632045</td>\n",
              "      <td>0.888252</td>\n",
              "      <td>0.886278</td>\n",
              "      <td>[[0.9193111001298042, 0.08068889987019576], [0...</td>\n",
              "      <td>0.382979</td>\n",
              "      <td>0.015517</td>\n",
              "      <td>0.029826</td>\n",
              "      <td>0.665456</td>\n",
              "    </tr>\n",
              "    <tr>\n",
              "      <th>1</th>\n",
              "      <td>knn</td>\n",
              "      <td>0.016399</td>\n",
              "      <td>0.891522</td>\n",
              "      <td>0.880645</td>\n",
              "      <td>[[1.0, 0.0], [1.0, 0.0], [0.8, 0.2], [1.0, 0.0...</td>\n",
              "      <td>0.298246</td>\n",
              "      <td>0.043966</td>\n",
              "      <td>0.076634</td>\n",
              "      <td>0.578543</td>\n",
              "    </tr>\n",
              "    <tr>\n",
              "      <th>2</th>\n",
              "      <td>tree</td>\n",
              "      <td>0.422114</td>\n",
              "      <td>0.917775</td>\n",
              "      <td>0.867243</td>\n",
              "      <td>[[1.0, 0.0], [1.0, 0.0], [0.5, 0.5], [1.0, 0.0...</td>\n",
              "      <td>0.241895</td>\n",
              "      <td>0.083621</td>\n",
              "      <td>0.124279</td>\n",
              "      <td>0.580578</td>\n",
              "    </tr>\n",
              "    <tr>\n",
              "      <th>3</th>\n",
              "      <td>svc</td>\n",
              "      <td>937.142811</td>\n",
              "      <td>0.888414</td>\n",
              "      <td>0.886860</td>\n",
              "      <td>[[0.892751493743832, 0.10724850625616798], [0....</td>\n",
              "      <td>0.272727</td>\n",
              "      <td>0.002586</td>\n",
              "      <td>0.005124</td>\n",
              "      <td>0.580639</td>\n",
              "    </tr>\n",
              "  </tbody>\n",
              "</table>\n",
              "</div>\n",
              "    <div class=\"colab-df-buttons\">\n",
              "\n",
              "  <div class=\"colab-df-container\">\n",
              "    <button class=\"colab-df-convert\" onclick=\"convertToInteractive('df-8dddec36-6c1c-4403-b745-347a90477d30')\"\n",
              "            title=\"Convert this dataframe to an interactive table.\"\n",
              "            style=\"display:none;\">\n",
              "\n",
              "  <svg xmlns=\"http://www.w3.org/2000/svg\" height=\"24px\" viewBox=\"0 -960 960 960\">\n",
              "    <path d=\"M120-120v-720h720v720H120Zm60-500h600v-160H180v160Zm220 220h160v-160H400v160Zm0 220h160v-160H400v160ZM180-400h160v-160H180v160Zm440 0h160v-160H620v160ZM180-180h160v-160H180v160Zm440 0h160v-160H620v160Z\"/>\n",
              "  </svg>\n",
              "    </button>\n",
              "\n",
              "  <style>\n",
              "    .colab-df-container {\n",
              "      display:flex;\n",
              "      gap: 12px;\n",
              "    }\n",
              "\n",
              "    .colab-df-convert {\n",
              "      background-color: #E8F0FE;\n",
              "      border: none;\n",
              "      border-radius: 50%;\n",
              "      cursor: pointer;\n",
              "      display: none;\n",
              "      fill: #1967D2;\n",
              "      height: 32px;\n",
              "      padding: 0 0 0 0;\n",
              "      width: 32px;\n",
              "    }\n",
              "\n",
              "    .colab-df-convert:hover {\n",
              "      background-color: #E2EBFA;\n",
              "      box-shadow: 0px 1px 2px rgba(60, 64, 67, 0.3), 0px 1px 3px 1px rgba(60, 64, 67, 0.15);\n",
              "      fill: #174EA6;\n",
              "    }\n",
              "\n",
              "    .colab-df-buttons div {\n",
              "      margin-bottom: 4px;\n",
              "    }\n",
              "\n",
              "    [theme=dark] .colab-df-convert {\n",
              "      background-color: #3B4455;\n",
              "      fill: #D2E3FC;\n",
              "    }\n",
              "\n",
              "    [theme=dark] .colab-df-convert:hover {\n",
              "      background-color: #434B5C;\n",
              "      box-shadow: 0px 1px 3px 1px rgba(0, 0, 0, 0.15);\n",
              "      filter: drop-shadow(0px 1px 2px rgba(0, 0, 0, 0.3));\n",
              "      fill: #FFFFFF;\n",
              "    }\n",
              "  </style>\n",
              "\n",
              "    <script>\n",
              "      const buttonEl =\n",
              "        document.querySelector('#df-8dddec36-6c1c-4403-b745-347a90477d30 button.colab-df-convert');\n",
              "      buttonEl.style.display =\n",
              "        google.colab.kernel.accessAllowed ? 'block' : 'none';\n",
              "\n",
              "      async function convertToInteractive(key) {\n",
              "        const element = document.querySelector('#df-8dddec36-6c1c-4403-b745-347a90477d30');\n",
              "        const dataTable =\n",
              "          await google.colab.kernel.invokeFunction('convertToInteractive',\n",
              "                                                    [key], {});\n",
              "        if (!dataTable) return;\n",
              "\n",
              "        const docLinkHtml = 'Like what you see? Visit the ' +\n",
              "          '<a target=\"_blank\" href=https://colab.research.google.com/notebooks/data_table.ipynb>data table notebook</a>'\n",
              "          + ' to learn more about interactive tables.';\n",
              "        element.innerHTML = '';\n",
              "        dataTable['output_type'] = 'display_data';\n",
              "        await google.colab.output.renderOutput(dataTable, element);\n",
              "        const docLink = document.createElement('div');\n",
              "        docLink.innerHTML = docLinkHtml;\n",
              "        element.appendChild(docLink);\n",
              "      }\n",
              "    </script>\n",
              "  </div>\n",
              "\n",
              "\n",
              "<div id=\"df-b10fe8c5-743c-4174-847e-d997954f5fa4\">\n",
              "  <button class=\"colab-df-quickchart\" onclick=\"quickchart('df-b10fe8c5-743c-4174-847e-d997954f5fa4')\"\n",
              "            title=\"Suggest charts\"\n",
              "            style=\"display:none;\">\n",
              "\n",
              "<svg xmlns=\"http://www.w3.org/2000/svg\" height=\"24px\"viewBox=\"0 0 24 24\"\n",
              "     width=\"24px\">\n",
              "    <g>\n",
              "        <path d=\"M19 3H5c-1.1 0-2 .9-2 2v14c0 1.1.9 2 2 2h14c1.1 0 2-.9 2-2V5c0-1.1-.9-2-2-2zM9 17H7v-7h2v7zm4 0h-2V7h2v10zm4 0h-2v-4h2v4z\"/>\n",
              "    </g>\n",
              "</svg>\n",
              "  </button>\n",
              "\n",
              "<style>\n",
              "  .colab-df-quickchart {\n",
              "      --bg-color: #E8F0FE;\n",
              "      --fill-color: #1967D2;\n",
              "      --hover-bg-color: #E2EBFA;\n",
              "      --hover-fill-color: #174EA6;\n",
              "      --disabled-fill-color: #AAA;\n",
              "      --disabled-bg-color: #DDD;\n",
              "  }\n",
              "\n",
              "  [theme=dark] .colab-df-quickchart {\n",
              "      --bg-color: #3B4455;\n",
              "      --fill-color: #D2E3FC;\n",
              "      --hover-bg-color: #434B5C;\n",
              "      --hover-fill-color: #FFFFFF;\n",
              "      --disabled-bg-color: #3B4455;\n",
              "      --disabled-fill-color: #666;\n",
              "  }\n",
              "\n",
              "  .colab-df-quickchart {\n",
              "    background-color: var(--bg-color);\n",
              "    border: none;\n",
              "    border-radius: 50%;\n",
              "    cursor: pointer;\n",
              "    display: none;\n",
              "    fill: var(--fill-color);\n",
              "    height: 32px;\n",
              "    padding: 0;\n",
              "    width: 32px;\n",
              "  }\n",
              "\n",
              "  .colab-df-quickchart:hover {\n",
              "    background-color: var(--hover-bg-color);\n",
              "    box-shadow: 0 1px 2px rgba(60, 64, 67, 0.3), 0 1px 3px 1px rgba(60, 64, 67, 0.15);\n",
              "    fill: var(--button-hover-fill-color);\n",
              "  }\n",
              "\n",
              "  .colab-df-quickchart-complete:disabled,\n",
              "  .colab-df-quickchart-complete:disabled:hover {\n",
              "    background-color: var(--disabled-bg-color);\n",
              "    fill: var(--disabled-fill-color);\n",
              "    box-shadow: none;\n",
              "  }\n",
              "\n",
              "  .colab-df-spinner {\n",
              "    border: 2px solid var(--fill-color);\n",
              "    border-color: transparent;\n",
              "    border-bottom-color: var(--fill-color);\n",
              "    animation:\n",
              "      spin 1s steps(1) infinite;\n",
              "  }\n",
              "\n",
              "  @keyframes spin {\n",
              "    0% {\n",
              "      border-color: transparent;\n",
              "      border-bottom-color: var(--fill-color);\n",
              "      border-left-color: var(--fill-color);\n",
              "    }\n",
              "    20% {\n",
              "      border-color: transparent;\n",
              "      border-left-color: var(--fill-color);\n",
              "      border-top-color: var(--fill-color);\n",
              "    }\n",
              "    30% {\n",
              "      border-color: transparent;\n",
              "      border-left-color: var(--fill-color);\n",
              "      border-top-color: var(--fill-color);\n",
              "      border-right-color: var(--fill-color);\n",
              "    }\n",
              "    40% {\n",
              "      border-color: transparent;\n",
              "      border-right-color: var(--fill-color);\n",
              "      border-top-color: var(--fill-color);\n",
              "    }\n",
              "    60% {\n",
              "      border-color: transparent;\n",
              "      border-right-color: var(--fill-color);\n",
              "    }\n",
              "    80% {\n",
              "      border-color: transparent;\n",
              "      border-right-color: var(--fill-color);\n",
              "      border-bottom-color: var(--fill-color);\n",
              "    }\n",
              "    90% {\n",
              "      border-color: transparent;\n",
              "      border-bottom-color: var(--fill-color);\n",
              "    }\n",
              "  }\n",
              "</style>\n",
              "\n",
              "  <script>\n",
              "    async function quickchart(key) {\n",
              "      const quickchartButtonEl =\n",
              "        document.querySelector('#' + key + ' button');\n",
              "      quickchartButtonEl.disabled = true;  // To prevent multiple clicks.\n",
              "      quickchartButtonEl.classList.add('colab-df-spinner');\n",
              "      try {\n",
              "        const charts = await google.colab.kernel.invokeFunction(\n",
              "            'suggestCharts', [key], {});\n",
              "      } catch (error) {\n",
              "        console.error('Error during call to suggestCharts:', error);\n",
              "      }\n",
              "      quickchartButtonEl.classList.remove('colab-df-spinner');\n",
              "      quickchartButtonEl.classList.add('colab-df-quickchart-complete');\n",
              "    }\n",
              "    (() => {\n",
              "      let quickchartButtonEl =\n",
              "        document.querySelector('#df-b10fe8c5-743c-4174-847e-d997954f5fa4 button');\n",
              "      quickchartButtonEl.style.display =\n",
              "        google.colab.kernel.accessAllowed ? 'block' : 'none';\n",
              "    })();\n",
              "  </script>\n",
              "</div>\n",
              "\n",
              "  <div id=\"id_5fdbf4db-878c-4d35-90d2-0eff0d458dfd\">\n",
              "    <style>\n",
              "      .colab-df-generate {\n",
              "        background-color: #E8F0FE;\n",
              "        border: none;\n",
              "        border-radius: 50%;\n",
              "        cursor: pointer;\n",
              "        display: none;\n",
              "        fill: #1967D2;\n",
              "        height: 32px;\n",
              "        padding: 0 0 0 0;\n",
              "        width: 32px;\n",
              "      }\n",
              "\n",
              "      .colab-df-generate:hover {\n",
              "        background-color: #E2EBFA;\n",
              "        box-shadow: 0px 1px 2px rgba(60, 64, 67, 0.3), 0px 1px 3px 1px rgba(60, 64, 67, 0.15);\n",
              "        fill: #174EA6;\n",
              "      }\n",
              "\n",
              "      [theme=dark] .colab-df-generate {\n",
              "        background-color: #3B4455;\n",
              "        fill: #D2E3FC;\n",
              "      }\n",
              "\n",
              "      [theme=dark] .colab-df-generate:hover {\n",
              "        background-color: #434B5C;\n",
              "        box-shadow: 0px 1px 3px 1px rgba(0, 0, 0, 0.15);\n",
              "        filter: drop-shadow(0px 1px 2px rgba(0, 0, 0, 0.3));\n",
              "        fill: #FFFFFF;\n",
              "      }\n",
              "    </style>\n",
              "    <button class=\"colab-df-generate\" onclick=\"generateWithVariable('results_df')\"\n",
              "            title=\"Generate code using this dataframe.\"\n",
              "            style=\"display:none;\">\n",
              "\n",
              "  <svg xmlns=\"http://www.w3.org/2000/svg\" height=\"24px\"viewBox=\"0 0 24 24\"\n",
              "       width=\"24px\">\n",
              "    <path d=\"M7,19H8.4L18.45,9,17,7.55,7,17.6ZM5,21V16.75L18.45,3.32a2,2,0,0,1,2.83,0l1.4,1.43a1.91,1.91,0,0,1,.58,1.4,1.91,1.91,0,0,1-.58,1.4L9.25,21ZM18.45,9,17,7.55Zm-12,3A5.31,5.31,0,0,0,4.9,8.1,5.31,5.31,0,0,0,1,6.5,5.31,5.31,0,0,0,4.9,4.9,5.31,5.31,0,0,0,6.5,1,5.31,5.31,0,0,0,8.1,4.9,5.31,5.31,0,0,0,12,6.5,5.46,5.46,0,0,0,6.5,12Z\"/>\n",
              "  </svg>\n",
              "    </button>\n",
              "    <script>\n",
              "      (() => {\n",
              "      const buttonEl =\n",
              "        document.querySelector('#id_5fdbf4db-878c-4d35-90d2-0eff0d458dfd button.colab-df-generate');\n",
              "      buttonEl.style.display =\n",
              "        google.colab.kernel.accessAllowed ? 'block' : 'none';\n",
              "\n",
              "      buttonEl.onclick = () => {\n",
              "        google.colab.notebook.generateWithVariable('results_df');\n",
              "      }\n",
              "      })();\n",
              "    </script>\n",
              "  </div>\n",
              "\n",
              "    </div>\n",
              "  </div>\n"
            ],
            "text/plain": [
              "  Model  Train Time  Train Accuracy  Test Accuracy  \\\n",
              "0    lr    1.632045        0.888252       0.886278   \n",
              "1   knn    0.016399        0.891522       0.880645   \n",
              "2  tree    0.422114        0.917775       0.867243   \n",
              "3   svc  937.142811        0.888414       0.886860   \n",
              "\n",
              "                                 Predict Probability  Precision    Recall  \\\n",
              "0  [[0.9193111001298042, 0.08068889987019576], [0...   0.382979  0.015517   \n",
              "1  [[1.0, 0.0], [1.0, 0.0], [0.8, 0.2], [1.0, 0.0...   0.298246  0.043966   \n",
              "2  [[1.0, 0.0], [1.0, 0.0], [0.5, 0.5], [1.0, 0.0...   0.241895  0.083621   \n",
              "3  [[0.892751493743832, 0.10724850625616798], [0....   0.272727  0.002586   \n",
              "\n",
              "   F1-score  ROC AUC Score  \n",
              "0  0.029826       0.665456  \n",
              "1  0.076634       0.578543  \n",
              "2  0.124279       0.580578  \n",
              "3  0.005124       0.580639  "
            ]
          },
          "execution_count": 37,
          "metadata": {},
          "output_type": "execute_result"
        }
      ],
      "source": [
        "results_df"
      ]
    },
    {
      "cell_type": "markdown",
      "metadata": {
        "id": "IaakxYL9ZSlg"
      },
      "source": [
        "**Conclusion**"
      ]
    },
    {
      "cell_type": "markdown",
      "metadata": {
        "id": "3XGWuxqaWoYa"
      },
      "source": [
        "- Reasonable Train and Test Accuracy: The Logistic Regression model achieved a train accuracy of 88.83% and a test accuracy of 88.63%. While these values are slightly lower than the Decision Tree's train accuracy, they are still quite high, indicating that the model generalizes well to unseen data.\n",
        "\n",
        "- Better ROC AUC Score: The Logistic Regression model also achieved a higher ROC AUC score of 0.665, compared to the Decision Tree's score of 0.581. A higher ROC AUC score suggests better overall performance in distinguishing between positive and negative classes.\n",
        "\n",
        "- Interpretability: Logistic Regression models are inherently interpretable, making it easier to understand the impact of individual features on the model's predictions. This can be valuable in fields where interpretability and transparency are important.\n",
        "\n",
        "- Faster Training Time: While the Logistic Regression model has a longer training time compared to KNN, it is significantly faster than the Decision Tree and SVC models. This efficiency can be advantageous, especially when dealing with large datasets or when training multiple models.\n",
        "\n",
        "Overall, considering the balance between accuracy, interpretability, and efficiency, the Logistic Regression model appears to be the most suitable choice for further analysis and application in this scenario."
      ]
    },
    {
      "cell_type": "markdown",
      "metadata": {
        "id": "lcMhk_g8U9LK"
      },
      "source": [
        "### Problem 11: Improving the Model\n",
        "\n",
        "Now that we have some basic models on the board, we want to try to improve these.  Below, we list a few things to explore in this pursuit.\n",
        "\n",
        "- More feature engineering and exploration.  For example, should we keep the gender feature?  Why or why not?\n",
        "- Hyperparameter tuning and grid search.  All of our models have additional hyperparameters to tune and explore.  For example the number of neighbors in KNN or the maximum depth of a Decision Tree.  \n",
        "- Adjust your performance metric"
      ]
    },
    {
      "cell_type": "code",
      "execution_count": null,
      "metadata": {
        "id": "v5PeGyblU9LK"
      },
      "outputs": [],
      "source": [
        "# Define classifiers\n",
        "classifiers = {\n",
        "    'lr': LogisticRegression(),\n",
        "    'knn': KNeighborsClassifier(),\n",
        "    'tree': DecisionTreeClassifier(),\n",
        "    'svc': SVC(probability=True)\n",
        "}\n",
        "\n",
        "# Define parameter grid for each classifier\n",
        "param = {\n",
        "    'lr': {'max_iter': [5000], 'C': [0.1, 0.5, 1.0]},\n",
        "    'knn': {'n_neighbors': [3, 5, 7]},\n",
        "    'tree': {'max_depth': [None, 5, 10]},\n",
        "    'svc': {'C': [0.001,0.1, 0.5, 1.0]}\n",
        "}\n"
      ]
    },
    {
      "cell_type": "code",
      "execution_count": null,
      "metadata": {
        "colab": {
          "base_uri": "https://localhost:8080/",
          "height": 34
        },
        "id": "LuiSKRm4XJEh",
        "outputId": "94082cd7-7042-4aa2-a656-19ffcc987c11"
      },
      "outputs": [
        {
          "data": {
            "text/plain": [
              "<Figure size 800x600 with 0 Axes>"
            ]
          },
          "metadata": {},
          "output_type": "display_data"
        }
      ],
      "source": [
        "results = {\n",
        "    \"Model\": [],\n",
        "    \"Train Time\": [],\n",
        "    \"Train Accuracy\": [],\n",
        "    \"Test Accuracy\": [],\n",
        "    \"Precision\": [],\n",
        "    \"Recall\": [],\n",
        "    \"F1-score\": [],\n",
        "    \"ROC AUC Score\": []\n",
        "}\n",
        "\n",
        "plt.figure(figsize=(8, 6))\n"
      ]
    },
    {
      "cell_type": "code",
      "execution_count": null,
      "metadata": {
        "colab": {
          "background_save": true,
          "base_uri": "https://localhost:8080/"
        },
        "id": "sMNRK2IZaLM8",
        "outputId": "916d7c67-e658-46c5-b8db-b4c4e42d9136"
      },
      "outputs": [
        {
          "name": "stderr",
          "output_type": "stream",
          "text": [
            "/usr/local/lib/python3.10/dist-packages/sklearn/metrics/_classification.py:1344: UndefinedMetricWarning: Precision is ill-defined and being set to 0.0 due to no predicted samples. Use `zero_division` parameter to control this behavior.\n",
            "  _warn_prf(average, modifier, msg_start, len(result))\n",
            "/usr/local/lib/python3.10/dist-packages/joblib/externals/loky/process_executor.py:752: UserWarning: A worker stopped while some jobs were given to the executor. This can be caused by a too short worker timeout or by a memory leak.\n",
            "  warnings.warn(\n",
            "/usr/local/lib/python3.10/dist-packages/sklearn/metrics/_classification.py:1344: UndefinedMetricWarning: Precision is ill-defined and being set to 0.0 due to no predicted samples. Use `zero_division` parameter to control this behavior.\n",
            "  _warn_prf(average, modifier, msg_start, len(result))\n"
          ]
        },
        {
          "data": {
            "image/png": "[encoded data removed]",
            "text/plain": [
              "<Figure size 640x480 with 1 Axes>"
            ]
          },
          "metadata": {},
          "output_type": "display_data"
        }
      ],
      "source": [
        "# Instantiate grid search for each classifier\n",
        "for name, classifier in classifiers.items():\n",
        "    grid = GridSearchCV(estimator=classifier, param_grid=param[name], scoring=\"accuracy\", n_jobs=-1)\n",
        "\n",
        "    # Start the timer to calculate the total time taken for the entire grid search process\n",
        "    start_time = time()\n",
        "\n",
        "    # Fit data to grid\n",
        "    grid.fit(X_train, y_train)\n",
        "\n",
        "    # End the timer\n",
        "    end_time = time()\n",
        "\n",
        "    # Get the best estimator\n",
        "    best_clf = grid.best_estimator_\n",
        "\n",
        "    # Predict for train and test data\n",
        "    y_train_pred = best_clf.predict(X_train)\n",
        "    y_test_pred = best_clf.predict(X_test)\n",
        "    y_test_proba = best_clf.predict_proba(X_test)[:, 1]\n",
        "\n",
        "    # Model evaluations\n",
        "    train_accuracy = accuracy_score(y_train, y_train_pred)\n",
        "    test_accuracy = accuracy_score(y_test, y_test_pred)\n",
        "    fit_time = end_time - start_time\n",
        "    test_precision = precision_score(y_test, y_test_pred,zero_division=0)\n",
        "    test_recall = recall_score(y_test, y_test_pred)\n",
        "    test_f1_score = f1_score(y_test, y_test_pred)\n",
        "    roc_auc_value = roc_auc_score(y_test, y_test_proba)\n",
        "\n",
        "    # Append results to dictionary\n",
        "    results['Model'].append(classifier)\n",
        "    results['Train Time'].append(fit_time)\n",
        "    results['Train Accuracy'].append(train_accuracy)\n",
        "    results['Test Accuracy'].append(test_accuracy)\n",
        "    results['Precision'].append(test_precision)\n",
        "    results['Recall'].append(test_recall)\n",
        "    results['F1-score'].append(test_f1_score)\n",
        "    results['ROC AUC Score'].append(roc_auc_value)\n",
        "\n",
        "    # Plot ROC curve\n",
        "    fpr, tpr, _ = roc_curve(y_test, y_test_proba)  # _ is showing threshold\n",
        "    plt.plot(fpr, tpr, label=f\"{name} (AUC score is {roc_auc_value:.2f})\")\n",
        "\n",
        "# Plot settings\n",
        "plt.plot([0, 1], [0, 1], linestyle='--', color='grey', label='Diagonal Line')\n",
        "plt.xlabel('False Positive Rate')\n",
        "plt.ylabel('True Positive Rate')\n",
        "plt.title('Receiver Operating Characteristic (ROC) Curve')\n",
        "plt.legend()\n",
        "plt.grid(True)\n",
        "plt.show()\n",
        "\n",
        "# Create DataFrame from results\n",
        "results_df = pd.DataFrame(results)\n"
      ]
    },
    {
      "cell_type": "code",
      "execution_count": null,
      "metadata": {
        "id": "nP0g6RGZcshn"
      },
      "outputs": [],
      "source": [
        "results_df"
      ]
    },
    {
      "cell_type": "markdown",
      "metadata": {
        "id": "0DxpAt71bzJT"
      },
      "source": [
        "Size of the Grid: The size of the grid is determined by the number of hyperparameters to search over and the number of values for each hyperparameter. In this case, there are 3 values for lr__max_iter, 3 for knn__n_neighbors, 3 for tree__max_depth, and 3 for svc__C, resulting in a total of 3×3×3×3=81 parameter combinations.\n",
        "\n",
        "Number of Folds in Cross-Validation: By default, GridSearchCV uses 5-fold cross-validation. Each combination of hyperparameters will be evaluated on each fold, so each model will be trained and tested 5 times.\n",
        "\n",
        "Available Cores for Parallel Processing: Since n_jobs=-1 is used, all available cores (12 in this case) will be utilized for parallel processing.\n",
        "\n",
        "Given that the size of the training data is not extremely large and the models being trained are not overly complex, we can expect the time to fit a single model to be relatively short. However, with 81 parameter combinations and 5-fold cross-validation, a total of 81×5=405 models will be trained and evaluated."
      ]
    },
    {
      "cell_type": "markdown",
      "metadata": {
        "id": "Mr9OXEY3fZSJ"
      },
      "source": [
        "![image.png](data:image/png;base64,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)"
      ]
    },
    {
      "cell_type": "markdown",
      "metadata": {
        "id": "a6Q3y42WlN_g"
      },
      "source": [
        "### Analysis and Synthesis\n",
        "\n",
        "1. Accuracy: All models achieved similar performance on training and test datasets, indicating there is no significant overfitting or underfitting.\n",
        "2. Fit Times: KNN has the shortes mean fit time, while Support Vector Machine has the longest mean fit time. This suggests that KNN is faster to train, whereas SVM is slowed.\n",
        "3. Interpretation: The high training and test accuracies across all modles suggests that they are capturing the underlying data pattern reasonable well.\n",
        "4. Higher training score than test score indicates overfitting but in this case, the difference is minimal, suggesting that the models generalize well to unseen data."
      ]
    },
    {
      "cell_type": "markdown",
      "metadata": {
        "id": "niFsq5n7c3cE"
      },
      "source": [
        "### We use DecisonTree as a model to find most important features"
      ]
    },
    {
      "cell_type": "code",
      "source": [
        "# instantiate the decision tree model\n",
        "tree = DecisionTreeClassifier()\n",
        "\n",
        "# fit the data to model\n",
        "tree.fit(X_train,y_train)\n",
        "\n",
        "# get feature importance\n",
        "feature_importance = tree.feature_importances_\n",
        "\n",
        "# get indicies of top 10 features with highest importance\n",
        "n_top_features =20\n",
        "top_20_indices_tree = feature_importance.argsort()[-n_top_features:][::-1]\n",
        "top_20_features_tree = X_train.columns[top_20_indices_tree]\n",
        "\n",
        "# visualize it\n",
        "plt.figure(figsize=(12,6))\n",
        "plt.barh(top_20_features_tree,feature_importance[top_20_indices_tree]) # plt.barh(X_train.columns,feature_importance)\n",
        "plt.xlabel(\"Feature Importance\")\n",
        "plt.ylabel(\"Features\")\n",
        "plt.title(\"Feature Importance for Decison Tree\")\n",
        "\n",
        "plt.gca().invert_yaxis() # this will display most improtant feature at top\n",
        "\n",
        "plt.show()"
      ],
      "metadata": {
        "colab": {
          "base_uri": "https://localhost:8080/",
          "height": 564
        },
        "id": "kJ8uLBhLC56s",
        "outputId": "ba9ce415-c442-4459-a194-944654f02e75"
      },
      "execution_count": 113,
      "outputs": [
        {
          "output_type": "display_data",
          "data": {
            "text/plain": [
              "<Figure size 1200x600 with 1 Axes>"
            ],
            "image/png": "[encoded data removed]"
          },
          "metadata": {}
        }
      ]
    },
    {
      "cell_type": "markdown",
      "source": [
        "|Features used earlier| Feature to consider|\n",
        "|-----------------|-------------------|\n",
        "|Age| No|\n",
        "|Job|Yes|\n",
        "|Marital|Yes|\n",
        "|Education|Yes|\n",
        "|Default|Yes|\n",
        "|housing|Yes|\n",
        "|loan|Yes|"
      ],
      "metadata": {
        "id": "8z20eBPjAW4s"
      }
    },
    {
      "cell_type": "code",
      "source": [
        "# Filter the dataset to include only the top important features\n",
        "X_train_filtered = X_train[top_20_features_tree]\n",
        "X_test_filtered = X_test[top_20_features_tree]"
      ],
      "metadata": {
        "id": "t16e3tzBB0R-"
      },
      "execution_count": 119,
      "outputs": []
    },
    {
      "cell_type": "code",
      "execution_count": 120,
      "metadata": {
        "id": "svuyN6ZJU9LK",
        "colab": {
          "base_uri": "https://localhost:8080/"
        },
        "outputId": "32f9c640-842d-4286-ac3c-71e3f2434bc2"
      },
      "outputs": [
        {
          "output_type": "stream",
          "name": "stdout",
          "text": [
            "Accuracy on testing set with top 20 features: 0.88\n"
          ]
        }
      ],
      "source": [
        "# Instantiate the decision tree classifier\n",
        "tree_filtered = DecisionTreeClassifier()\n",
        "\n",
        "# Fit the model to the filtered training data\n",
        "tree_filtered.fit(X_train_filtered, y_train)\n",
        "\n",
        "# Evaluate the model's accuracy on the filtered testing set\n",
        "accuracy_filtered = tree_filtered.score(X_test_filtered, y_test)\n",
        "print(f\"Accuracy on testing set with top {n_top_features} features: {accuracy_filtered:.2f}\")\n"
      ]
    },
    {
      "cell_type": "code",
      "source": [
        "param_grid = {\n",
        "    'max_depth':[None,5,10,20,30],\n",
        "    'min_samples_leaf':[1,2,4],\n",
        "    'min_samples_split':[2,5,10]\n",
        "}"
      ],
      "metadata": {
        "colab": {
          "base_uri": "https://localhost:8080/"
        },
        "id": "WvX_hWKHAi8f",
        "outputId": "d9e1580e-a257-4f4f-ee1b-23fec629a8f4"
      },
      "execution_count": 123,
      "outputs": [
        {
          "output_type": "stream",
          "name": "stdout",
          "text": [
            "Best Hyperparameters: {'max_depth': 5, 'min_samples_leaf': 2, 'min_samples_split': 2}\n",
            "Best Estimator is: DecisionTreeClassifier(max_depth=5, min_samples_leaf=2)\n",
            "Accuracy on testing set with top 20 features and best hyperparameters: 0.89\n"
          ]
        }
      ]
    },
    {
      "cell_type": "code",
      "source": [
        "grid.predict_proba(X_test_filtered)"
      ],
      "metadata": {
        "colab": {
          "base_uri": "https://localhost:8080/"
        },
        "id": "3zFkRTKTHmYy",
        "outputId": "4456d868-41ef-4222-a9b9-80e569be6a3f"
      },
      "execution_count": 130,
      "outputs": [
        {
          "output_type": "execute_result",
          "data": {
            "text/plain": [
              "array([[0.90493511, 0.09506489],\n",
              "       [0.90493511, 0.09506489],\n",
              "       [0.87646468, 0.12353532],\n",
              "       ...,\n",
              "       [0.90493511, 0.09506489],\n",
              "       [0.94676471, 0.05323529],\n",
              "       [0.90493511, 0.09506489]])"
            ]
          },
          "metadata": {},
          "execution_count": 130
        }
      ]
    },
    {
      "cell_type": "code",
      "source": [
        "# Create a grid search object\n",
        "grid = GridSearchCV(estimator=DecisionTreeClassifier(), param_grid = param_grid, cv = 5)\n",
        "\n",
        "# start the timer\n",
        "start_time = time()\n",
        "\n",
        "# Fit the grid search object\n",
        "grid.fit(X_train_filtered, y_train)\n",
        "\n",
        "results = {\n",
        "    \"Accuracy\": [grid.best_score_],\n",
        "    \"best parameters\" : [grid.best_params_]\n",
        "}\n",
        "\n",
        "# stop the timer\n",
        "end_time = time()\n",
        "\n",
        "# Calculate fit time\n",
        "fit_time = end_time - start_time\n",
        "\n",
        "# calculate ROC_AUC score,extracts the probability of the positive class (class 1)\n",
        "roc_auc_value = roc_auc_score(y_test, grid.predict_proba(X_test_filtered)[:,1])\n",
        "\n",
        "# Create a dataframe to store the results\n",
        "final_results_df = pd.DataFrame(results)\n",
        "\n",
        "# add fit time\n",
        "final_results_df['fit time'] = fit_time\n",
        "final_results_df['roc_auc_score'] = roc_auc_value\n",
        "\n",
        "final_results_df"
      ],
      "metadata": {
        "colab": {
          "base_uri": "https://localhost:8080/",
          "height": 89
        },
        "id": "ApXIqQ8HFdLU",
        "outputId": "2d454f9d-1beb-4800-e5b3-a619b276d16b"
      },
      "execution_count": 133,
      "outputs": [
        {
          "output_type": "execute_result",
          "data": {
            "text/plain": [
              "   Accuracy                                    best parameters   fit time  \\\n",
              "0  0.887346  {'max_depth': 5, 'min_samples_leaf': 2, 'min_s...  11.707487   \n",
              "\n",
              "   roc_auc_score  \n",
              "0       0.635376  "
            ],
            "text/html": [
              "\n",
              "  <div id=\"df-850abc8d-08ed-4eec-ba80-74d1b9eb9f7e\" class=\"colab-df-container\">\n",
              "    <div>\n",
              "<style scoped>\n",
              "    .dataframe tbody tr th:only-of-type {\n",
              "        vertical-align: middle;\n",
              "    }\n",
              "\n",
              "    .dataframe tbody tr th {\n",
              "        vertical-align: top;\n",
              "    }\n",
              "\n",
              "    .dataframe thead th {\n",
              "        text-align: right;\n",
              "    }\n",
              "</style>\n",
              "<table border=\"1\" class=\"dataframe\">\n",
              "  <thead>\n",
              "    <tr style=\"text-align: right;\">\n",
              "      <th></th>\n",
              "      <th>Accuracy</th>\n",
              "      <th>best parameters</th>\n",
              "      <th>fit time</th>\n",
              "      <th>roc_auc_score</th>\n",
              "    </tr>\n",
              "  </thead>\n",
              "  <tbody>\n",
              "    <tr>\n",
              "      <th>0</th>\n",
              "      <td>0.887346</td>\n",
              "      <td>{'max_depth': 5, 'min_samples_leaf': 2, 'min_s...</td>\n",
              "      <td>11.707487</td>\n",
              "      <td>0.635376</td>\n",
              "    </tr>\n",
              "  </tbody>\n",
              "</table>\n",
              "</div>\n",
              "    <div class=\"colab-df-buttons\">\n",
              "\n",
              "  <div class=\"colab-df-container\">\n",
              "    <button class=\"colab-df-convert\" onclick=\"convertToInteractive('df-850abc8d-08ed-4eec-ba80-74d1b9eb9f7e')\"\n",
              "            title=\"Convert this dataframe to an interactive table.\"\n",
              "            style=\"display:none;\">\n",
              "\n",
              "  <svg xmlns=\"http://www.w3.org/2000/svg\" height=\"24px\" viewBox=\"0 -960 960 960\">\n",
              "    <path d=\"M120-120v-720h720v720H120Zm60-500h600v-160H180v160Zm220 220h160v-160H400v160Zm0 220h160v-160H400v160ZM180-400h160v-160H180v160Zm440 0h160v-160H620v160ZM180-180h160v-160H180v160Zm440 0h160v-160H620v160Z\"/>\n",
              "  </svg>\n",
              "    </button>\n",
              "\n",
              "  <style>\n",
              "    .colab-df-container {\n",
              "      display:flex;\n",
              "      gap: 12px;\n",
              "    }\n",
              "\n",
              "    .colab-df-convert {\n",
              "      background-color: #E8F0FE;\n",
              "      border: none;\n",
              "      border-radius: 50%;\n",
              "      cursor: pointer;\n",
              "      display: none;\n",
              "      fill: #1967D2;\n",
              "      height: 32px;\n",
              "      padding: 0 0 0 0;\n",
              "      width: 32px;\n",
              "    }\n",
              "\n",
              "    .colab-df-convert:hover {\n",
              "      background-color: #E2EBFA;\n",
              "      box-shadow: 0px 1px 2px rgba(60, 64, 67, 0.3), 0px 1px 3px 1px rgba(60, 64, 67, 0.15);\n",
              "      fill: #174EA6;\n",
              "    }\n",
              "\n",
              "    .colab-df-buttons div {\n",
              "      margin-bottom: 4px;\n",
              "    }\n",
              "\n",
              "    [theme=dark] .colab-df-convert {\n",
              "      background-color: #3B4455;\n",
              "      fill: #D2E3FC;\n",
              "    }\n",
              "\n",
              "    [theme=dark] .colab-df-convert:hover {\n",
              "      background-color: #434B5C;\n",
              "      box-shadow: 0px 1px 3px 1px rgba(0, 0, 0, 0.15);\n",
              "      filter: drop-shadow(0px 1px 2px rgba(0, 0, 0, 0.3));\n",
              "      fill: #FFFFFF;\n",
              "    }\n",
              "  </style>\n",
              "\n",
              "    <script>\n",
              "      const buttonEl =\n",
              "        document.querySelector('#df-850abc8d-08ed-4eec-ba80-74d1b9eb9f7e button.colab-df-convert');\n",
              "      buttonEl.style.display =\n",
              "        google.colab.kernel.accessAllowed ? 'block' : 'none';\n",
              "\n",
              "      async function convertToInteractive(key) {\n",
              "        const element = document.querySelector('#df-850abc8d-08ed-4eec-ba80-74d1b9eb9f7e');\n",
              "        const dataTable =\n",
              "          await google.colab.kernel.invokeFunction('convertToInteractive',\n",
              "                                                    [key], {});\n",
              "        if (!dataTable) return;\n",
              "\n",
              "        const docLinkHtml = 'Like what you see? Visit the ' +\n",
              "          '<a target=\"_blank\" href=https://colab.research.google.com/notebooks/data_table.ipynb>data table notebook</a>'\n",
              "          + ' to learn more about interactive tables.';\n",
              "        element.innerHTML = '';\n",
              "        dataTable['output_type'] = 'display_data';\n",
              "        await google.colab.output.renderOutput(dataTable, element);\n",
              "        const docLink = document.createElement('div');\n",
              "        docLink.innerHTML = docLinkHtml;\n",
              "        element.appendChild(docLink);\n",
              "      }\n",
              "    </script>\n",
              "  </div>\n",
              "\n",
              "\n",
              "  <div id=\"id_1a489bf6-4bfe-42e3-8108-51abc74a6445\">\n",
              "    <style>\n",
              "      .colab-df-generate {\n",
              "        background-color: #E8F0FE;\n",
              "        border: none;\n",
              "        border-radius: 50%;\n",
              "        cursor: pointer;\n",
              "        display: none;\n",
              "        fill: #1967D2;\n",
              "        height: 32px;\n",
              "        padding: 0 0 0 0;\n",
              "        width: 32px;\n",
              "      }\n",
              "\n",
              "      .colab-df-generate:hover {\n",
              "        background-color: #E2EBFA;\n",
              "        box-shadow: 0px 1px 2px rgba(60, 64, 67, 0.3), 0px 1px 3px 1px rgba(60, 64, 67, 0.15);\n",
              "        fill: #174EA6;\n",
              "      }\n",
              "\n",
              "      [theme=dark] .colab-df-generate {\n",
              "        background-color: #3B4455;\n",
              "        fill: #D2E3FC;\n",
              "      }\n",
              "\n",
              "      [theme=dark] .colab-df-generate:hover {\n",
              "        background-color: #434B5C;\n",
              "        box-shadow: 0px 1px 3px 1px rgba(0, 0, 0, 0.15);\n",
              "        filter: drop-shadow(0px 1px 2px rgba(0, 0, 0, 0.3));\n",
              "        fill: #FFFFFF;\n",
              "      }\n",
              "    </style>\n",
              "    <button class=\"colab-df-generate\" onclick=\"generateWithVariable('final_results_df')\"\n",
              "            title=\"Generate code using this dataframe.\"\n",
              "            style=\"display:none;\">\n",
              "\n",
              "  <svg xmlns=\"http://www.w3.org/2000/svg\" height=\"24px\"viewBox=\"0 0 24 24\"\n",
              "       width=\"24px\">\n",
              "    <path d=\"M7,19H8.4L18.45,9,17,7.55,7,17.6ZM5,21V16.75L18.45,3.32a2,2,0,0,1,2.83,0l1.4,1.43a1.91,1.91,0,0,1,.58,1.4,1.91,1.91,0,0,1-.58,1.4L9.25,21ZM18.45,9,17,7.55Zm-12,3A5.31,5.31,0,0,0,4.9,8.1,5.31,5.31,0,0,0,1,6.5,5.31,5.31,0,0,0,4.9,4.9,5.31,5.31,0,0,0,6.5,1,5.31,5.31,0,0,0,8.1,4.9,5.31,5.31,0,0,0,12,6.5,5.46,5.46,0,0,0,6.5,12Z\"/>\n",
              "  </svg>\n",
              "    </button>\n",
              "    <script>\n",
              "      (() => {\n",
              "      const buttonEl =\n",
              "        document.querySelector('#id_1a489bf6-4bfe-42e3-8108-51abc74a6445 button.colab-df-generate');\n",
              "      buttonEl.style.display =\n",
              "        google.colab.kernel.accessAllowed ? 'block' : 'none';\n",
              "\n",
              "      buttonEl.onclick = () => {\n",
              "        google.colab.notebook.generateWithVariable('final_results_df');\n",
              "      }\n",
              "      })();\n",
              "    </script>\n",
              "  </div>\n",
              "\n",
              "    </div>\n",
              "  </div>\n"
            ],
            "application/vnd.google.colaboratory.intrinsic+json": {
              "type": "dataframe",
              "variable_name": "final_results_df",
              "summary": "{\n  \"name\": \"final_results_df\",\n  \"rows\": 1,\n  \"fields\": [\n    {\n      \"column\": \"Accuracy\",\n      \"properties\": {\n        \"dtype\": \"number\",\n        \"std\": null,\n        \"min\": 0.8873458284100257,\n        \"max\": 0.8873458284100257,\n        \"num_unique_values\": 1,\n        \"samples\": [\n          0.8873458284100257\n        ],\n        \"semantic_type\": \"\",\n        \"description\": \"\"\n      }\n    },\n    {\n      \"column\": \"best parameters\",\n      \"properties\": {\n        \"dtype\": \"object\",\n        \"semantic_type\": \"\",\n        \"description\": \"\"\n      }\n    },\n    {\n      \"column\": \"fit time\",\n      \"properties\": {\n        \"dtype\": \"number\",\n        \"std\": null,\n        \"min\": 11.707486867904663,\n        \"max\": 11.707486867904663,\n        \"num_unique_values\": 1,\n        \"samples\": [\n          11.707486867904663\n        ],\n        \"semantic_type\": \"\",\n        \"description\": \"\"\n      }\n    },\n    {\n      \"column\": \"roc_auc_score\",\n      \"properties\": {\n        \"dtype\": \"number\",\n        \"std\": null,\n        \"min\": 0.6353755382623888,\n        \"max\": 0.6353755382623888,\n        \"num_unique_values\": 1,\n        \"samples\": [\n          0.6353755382623888\n        ],\n        \"semantic_type\": \"\",\n        \"description\": \"\"\n      }\n    }\n  ]\n}"
            }
          },
          "metadata": {},
          "execution_count": 133
        }
      ]
    },
    {
      "cell_type": "code",
      "source": [
        "# plot ROC curve\n",
        "y_test_proba = grid.predict_proba(X_test_filtered)[:,1]\n",
        "\n",
        "fpr, tpr, _ = roc_curve(y_test,y_test_proba)\n",
        "\n",
        "# plot a digonal line\n",
        "plt.plot([0,1],[0,1], ls=\"--\", c='r')\n",
        "\n",
        "# plot the data points\n",
        "plt.plot(fpr,tpr, label=f'AUC score is {roc_auc_score(y_test,y_test_proba):.2f}')\n",
        "plt.xlabel(\"False Positive Rate\")\n",
        "plt.ylabel(\"True Positive Rate\")\n",
        "plt.title(\"Decision Tree Classifer trained on important features\")\n",
        "plt.legend()\n",
        "\n",
        "plt.show()"
      ],
      "metadata": {
        "colab": {
          "base_uri": "https://localhost:8080/",
          "height": 472
        },
        "id": "4JOXK-ctFPzm",
        "outputId": "efc015a5-ad54-4012-de67-bd3b58c50162"
      },
      "execution_count": 146,
      "outputs": [
        {
          "output_type": "display_data",
          "data": {
            "text/plain": [
              "<Figure size 640x480 with 1 Axes>"
            ],
            "image/png": "[encoded data removed]"
          },
          "metadata": {}
        }
      ]
    },
    {
      "cell_type": "code",
      "execution_count": null,
      "metadata": {
        "id": "dwvwf2LpU9LL"
      },
      "outputs": [],
      "source": []
    },
    {
      "cell_type": "code",
      "execution_count": null,
      "metadata": {
        "id": "yvMjWZHKU9LR"
      },
      "outputs": [],
      "source": []
    },
    {
      "cell_type": "code",
      "execution_count": null,
      "metadata": {
        "id": "abdZEwCLU9LS"
      },
      "outputs": [],
      "source": []
    },
    {
      "cell_type": "code",
      "execution_count": null,
      "metadata": {
        "id": "ZPgMIwPqU9LS"
      },
      "outputs": [],
      "source": []
    },
    {
      "cell_type": "code",
      "execution_count": null,
      "metadata": {
        "id": "lrliCezOU9LS"
      },
      "outputs": [],
      "source": []
    },
    {
      "cell_type": "code",
      "execution_count": null,
      "metadata": {
        "id": "w9kT_hQVU9LS"
      },
      "outputs": [],
      "source": []
    },
    {
      "cell_type": "code",
      "execution_count": null,
      "metadata": {
        "id": "LtefwMc7U9LS"
      },
      "outputs": [],
      "source": []
    },
    {
      "cell_type": "code",
      "execution_count": null,
      "metadata": {
        "id": "Kmq-Zi3oU9LS"
      },
      "outputs": [],
      "source": []
    },
    {
      "cell_type": "markdown",
      "metadata": {
        "id": "bAX64ZhJU9LT"
      },
      "source": [
        "##### Questions"
      ]
    }
  ],
  "metadata": {
    "colab": {
      "provenance": []
    },
    "kernelspec": {
      "display_name": "Python 3",
      "language": "python",
      "name": "python3"
    },
    "language_info": {
      "codemirror_mode": {
        "name": "ipython",
        "version": 3
      },
      "file_extension": ".py",
      "mimetype": "text/x-python",
      "name": "python",
      "nbconvert_exporter": "python",
      "pygments_lexer": "ipython3",
      "version": "3.8.8"
    }
  },
  "nbformat": 4,
  "nbformat_minor": 0
}